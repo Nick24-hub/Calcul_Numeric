{
  "cells": [
    {
      "cell_type": "markdown",
      "metadata": {
        "id": "view-in-github",
        "colab_type": "text"
      },
      "source": [
        "<a href=\"https://colab.research.google.com/github/Nick24-hub/Calcul_Numeric/blob/main/%5BCN%5D_Tema_2.ipynb\" target=\"_parent\"><img src=\"https://colab.research.google.com/assets/colab-badge.svg\" alt=\"Open In Colab\"/></a>"
      ]
    },
    {
      "cell_type": "markdown",
      "id": "a69c444a",
      "metadata": {
        "id": "a69c444a"
      },
      "source": [
        "# Tema 2\n",
        "\n",
        "Topics:\n",
        "1. Metoda substitutiei inverse\n",
        "2. Algoritmul de Elminiare Gauss"
      ]
    },
    {
      "cell_type": "code",
      "execution_count": null,
      "id": "5c5865ad",
      "metadata": {
        "id": "5c5865ad"
      },
      "outputs": [],
      "source": [
        "import numpy as np\n",
        "import plotly.express as px\n",
        "import plotly.graph_objects as go\n",
        "from numpy.linalg import norm\n",
        "from scipy.linalg import solve\n",
        "import unittest\n",
        "import random\n",
        "import pdb\n",
        "\n",
        "np.random.seed(10)\n",
        "\n",
        "# functions that need to be implemented\n",
        "# from tema2 import substitution_method, get_inv, gauss_algorithm\n",
        "\n",
        "# dummy functions that mirror standard methods from libraries (but you'll have to discover them)\n",
        "# from tema2 import get_norm, lib_solve, lib_inv\n",
        "\n",
        "# from tema2 import plot_matrix_evolution\n",
        "\n",
        "np.set_printoptions(suppress=True)"
      ]
    },
    {
      "cell_type": "code",
      "source": [
        "!pip install --upgrade plotly"
      ],
      "metadata": {
        "colab": {
          "base_uri": "https://localhost:8080/"
        },
        "id": "J86FO5AgGpgD",
        "outputId": "49ec428a-e109-4330-8157-ca0a7603b412"
      },
      "id": "J86FO5AgGpgD",
      "execution_count": null,
      "outputs": [
        {
          "output_type": "stream",
          "name": "stdout",
          "text": [
            "Requirement already satisfied: plotly in /usr/local/lib/python3.7/dist-packages (5.6.0)\n",
            "Requirement already satisfied: tenacity>=6.2.0 in /usr/local/lib/python3.7/dist-packages (from plotly) (8.0.1)\n",
            "Requirement already satisfied: six in /usr/local/lib/python3.7/dist-packages (from plotly) (1.15.0)\n"
          ]
        }
      ]
    },
    {
      "cell_type": "markdown",
      "id": "b475e101",
      "metadata": {
        "id": "b475e101"
      },
      "source": [
        "## 1. Metoda substitutiei inverse\n",
        "\n",
        "**TL;DR:** Metoda substituiei inverse rezolva sisteme linare in care matricea asociata sistemului este triunghiulara (inferior sau superior)."
      ]
    },
    {
      "cell_type": "markdown",
      "id": "a11e7e0e",
      "metadata": {
        "id": "a11e7e0e"
      },
      "source": [
        "* **Ce este o matrice triunghiulara superior?** O matrice triunghiulara superior este o matrice care are valori nule sub diagonala principala. "
      ]
    },
    {
      "cell_type": "code",
      "execution_count": null,
      "id": "be9feffe",
      "metadata": {
        "id": "be9feffe",
        "outputId": "c9aba08a-6644-44a4-ee43-0007666cc16a",
        "colab": {
          "base_uri": "https://localhost:8080/"
        }
      },
      "outputs": [
        {
          "output_type": "execute_result",
          "data": {
            "text/plain": [
              "array([[ 1,  2,  3,  4],\n",
              "       [ 5,  6,  7,  8],\n",
              "       [ 9, 10, 11, 12],\n",
              "       [13, 14, 15, 16]])"
            ]
          },
          "metadata": {},
          "execution_count": 30
        }
      ],
      "source": [
        "# generate a 4x4 matrix with elements from 1 to 16\n",
        "A = (np.arange(4*4) + 1).reshape(4, 4)\n",
        "A"
      ]
    },
    {
      "cell_type": "code",
      "execution_count": null,
      "id": "b375703c",
      "metadata": {
        "id": "b375703c",
        "outputId": "521911ac-c7f7-444b-d805-6289189cb36d",
        "colab": {
          "base_uri": "https://localhost:8080/"
        }
      },
      "outputs": [
        {
          "output_type": "execute_result",
          "data": {
            "text/plain": [
              "array([[ 1,  2,  3,  4],\n",
              "       [ 0,  6,  7,  8],\n",
              "       [ 0,  0, 11, 12],\n",
              "       [ 0,  0,  0, 16]])"
            ]
          },
          "metadata": {},
          "execution_count": 31
        }
      ],
      "source": [
        "# generated superior triangular matrix from A\n",
        "np.triu(A)"
      ]
    },
    {
      "cell_type": "markdown",
      "id": "56049b03",
      "metadata": {
        "id": "56049b03"
      },
      "source": [
        "* **Ce este o matrice triunghiulara inferior?** O matrice triunghiulara inferior este o matrice care are valori nule deasupra diagonala principala. "
      ]
    },
    {
      "cell_type": "code",
      "execution_count": null,
      "id": "d418ab7b",
      "metadata": {
        "id": "d418ab7b",
        "outputId": "54e64c7f-72dd-47ba-cdf6-7efe08d3d948",
        "colab": {
          "base_uri": "https://localhost:8080/"
        }
      },
      "outputs": [
        {
          "output_type": "execute_result",
          "data": {
            "text/plain": [
              "array([[ 1,  0,  0,  0],\n",
              "       [ 5,  6,  0,  0],\n",
              "       [ 9, 10, 11,  0],\n",
              "       [13, 14, 15, 16]])"
            ]
          },
          "metadata": {},
          "execution_count": 32
        }
      ],
      "source": [
        "# generated inferior triangular matrix from A\n",
        "np.tril(A)"
      ]
    },
    {
      "cell_type": "markdown",
      "id": "ccd95f78",
      "metadata": {
        "id": "ccd95f78"
      },
      "source": [
        "### Metoda substitutiei inverse\n",
        "Fie sistemul liniar:\n",
        "$$\n",
        "A x=b\n",
        "$$\n",
        "\n",
        "unde matricea sistemului $A$ este **triunghiulară superior**. Pentru a găsi soluţia unică a sistemului, trebuie ca matricea să fie nesingulară. Determinantul matricelor triunghiulare este dat de formula:\n",
        "$$\n",
        "\\operatorname{det} A=a_{11} a_{22} \\cdots a_{n n}\n",
        "$$\n",
        "Prin urmare, pentru rezolvarea sistemului vom presupune că:\n",
        "$$\n",
        "\\operatorname{det} A \\neq 0 \\Longleftrightarrow a_{i i} \\neq 0 \\quad \\forall i=1,2, \\ldots, n\n",
        "$$\n",
        "Vom considera sistemul liniar cu matrice superior triunghiulară:\n",
        "\n",
        "\\begin{align*}\n",
        "a_{11} x_{1}+\\cdots+a_{1 i} x_{i}+\\cdots+a_{1 n-1} x_{n-1}+a_{1 n} x_{n}&=b_{1}\\\\\n",
        "\\cdots\\\\\n",
        "a_{i i} x_{i}+\\cdots+a_{i n-1} x_{n-1}+a_{i n} x_{n}&=b_{i}\\\\\n",
        "\\cdots\\\\\n",
        "a_{n-1 n-1} x_{n-1}+a_{n-1 n} x_{n}&=b_{n-1}\\\\\n",
        "a_{n n} x_{n}&=b_{n}\\\\\n",
        "\\end{align*}\n",
        "\n",
        "Necunoscutele $x_{1}, x_{2}, \\ldots, x_{n}$ se deduc pe rând, folosind ecuaţiile sistemului de la ultima către prima. Din ultima ecuaţie, deducem valoarea lui $x_{n}$ :\n",
        "$$\n",
        "x_{n}=\\frac{b_{n}}{a_{n n}}\n",
        "$$\n",
        "Folosind valoarea lui $x_{n}$ calculată mai sus, din penultima ecuaţie obţinem:\n",
        "$$\n",
        "x_{n-1}=\\frac{b_{n-1}-a_{n-1 n} x_{n}}{a_{n-1 n-1}}\n",
        "$$\n",
        "\n",
        "\n",
        "Continuăm să calculăm valori $x_{i}$ din ecuaţiile sistemului:\n",
        "$$\n",
        "x_{i}=\\frac{b_{i}-a_{i i+1} x_{i+1}-\\cdots-a_{i n} x_{n}}{a_{i i}}\n",
        "$$\n",
        "Din prima ecuaţie găsim valoarea lui $x_{1}$ :\n",
        "$$\n",
        "x_{1}=\\frac{b_{1}-a_{12} x_{2}-\\cdots-a_{1 n} x_{n}}{a_{11}}\n",
        "$$\n",
        "Procedeul descris mai sus poartă numele de metoda substituţiei inverse pentru rezolvarea sistemelor liniare cu matrice superior triunghiulară:\n",
        "$$\n",
        "x_{i}=\\frac{\\left(b_{i}-\\sum_{j=i+1}^{n} a_{i j} x_{j}\\right)}{a_{i i}} \\quad, \\quad i=n, n-1, \\ldots, 2,1\n",
        "$$"
      ]
    },
    {
      "cell_type": "markdown",
      "id": "9f43fece",
      "metadata": {
        "id": "9f43fece"
      },
      "source": [
        "#### Exemplu pentru metoda substitutiei inverse\n",
        "$$\n",
        "\\left(\\begin{array}{ccc}\n",
        "3 & 1 & -5 \\\\\n",
        "& -2 & 4 \\\\\n",
        "& & 2\n",
        "\\end{array}\\right)\\left(\\begin{array}{l}\n",
        "x_{1} \\\\\n",
        "x_{2} \\\\\n",
        "x_{3}\n",
        "\\end{array}\\right)=\\left(\\begin{array}{c}\n",
        "1 \\\\\n",
        "10 \\\\\n",
        "6\n",
        "\\end{array}\\right)$$\n",
        "\n",
        "#### Rezolvare:\n",
        "\n",
        "$$x_n = \\frac{b_n}{a_{nn}} \\Rightarrow x_3 = \\frac{b_3}{a_{33}} = \\frac{6}{2} = 3$$\n",
        "\n",
        "\n",
        "$$\n",
        "x_{i}=\\frac{\\left(b_{i}-\\sum_{j=i+1}^{n} a_{i j} x_{j}\\right)}{a_{i i}} \\quad, \\quad i=n, n-1, \\ldots, 2,1\n",
        "\\Rightarrow\n",
        "x_2=\\frac{10 - (4 * 3)}{-2}=1\n",
        "$$\n",
        "\n",
        "$$\n",
        "x_1=\\frac{1 - ((1 * 1) + (-5 * 3))}{3} = \\frac{1 - (-14)}{3} = \\frac{15}{3} = 5\n",
        "$$"
      ]
    },
    {
      "cell_type": "code",
      "execution_count": null,
      "id": "57b5773e",
      "metadata": {
        "id": "57b5773e",
        "outputId": "7a4057bb-4ff9-486d-87bb-0e3dd2183337",
        "colab": {
          "base_uri": "https://localhost:8080/"
        }
      },
      "outputs": [
        {
          "output_type": "execute_result",
          "data": {
            "text/plain": [
              "(array([[10, 16, 65, 29, 90, 94, 30,  9, 74,  1],\n",
              "        [ 0, 37, 17, 12, 55, 89, 63, 34, 73, 79],\n",
              "        [ 0,  0, 55, 78, 70, 14, 26, 14, 93, 87],\n",
              "        [ 0,  0,  0, 13, 66, 32, 58, 37, 28, 19],\n",
              "        [ 0,  0,  0,  0, 95, 12, 29, 75, 89, 10],\n",
              "        [ 0,  0,  0,  0,  0, 12, 18, 47,  8, 76],\n",
              "        [ 0,  0,  0,  0,  0,  0,  6,  5, 72, 89],\n",
              "        [ 0,  0,  0,  0,  0,  0,  0, 16,  7, 86],\n",
              "        [ 0,  0,  0,  0,  0,  0,  0,  0, 43, 58],\n",
              "        [ 0,  0,  0,  0,  0,  0,  0,  0,  0, 24]]),\n",
              " array([ 4, 30, 17, 85, 83, 15, 52, 80, 18, 51]))"
            ]
          },
          "metadata": {},
          "execution_count": 33
        }
      ],
      "source": [
        "# Generate random superior triangular system\n",
        "n = 10\n",
        "A = np.random.randint(low=1, high=100, size=n*n).reshape(n, n)\n",
        "A = np.triu(A)\n",
        "b = np.random.randint(low=1, high=100, size=n)\n",
        "\n",
        "A, b"
      ]
    },
    {
      "cell_type": "code",
      "source": [
        "def substitution_method(a, b, n):\n",
        "  x = [0 for i in range(n)]\n",
        "  for i in range(n - 1, -1, -1):\n",
        "    sum = 0\n",
        "    for j in range(i + 1, n):\n",
        "      sum += a[i][j] * x[j]\n",
        "    if abs(a[i][i]) > 1e-15:\n",
        "      x[i] = (b[i] - sum) / a[i][i]\n",
        "    else:\n",
        "      raise Exception(\"Matrice Singulara\")\n",
        "  return x"
      ],
      "metadata": {
        "id": "PpAeWybIXfgX"
      },
      "id": "PpAeWybIXfgX",
      "execution_count": null,
      "outputs": []
    },
    {
      "cell_type": "code",
      "execution_count": null,
      "id": "159eaf25",
      "metadata": {
        "id": "159eaf25",
        "outputId": "279ab866-608a-42b9-c630-c4a02459b077",
        "colab": {
          "base_uri": "https://localhost:8080/"
        }
      },
      "outputs": [
        {
          "output_type": "execute_result",
          "data": {
            "text/plain": [
              "[-138.82179681562053,\n",
              " -12.535229963049725,\n",
              " 40.2585788731872,\n",
              " -33.34281160750714,\n",
              " 4.585178243574051,\n",
              " -6.084060077519383,\n",
              " 10.977107558139537,\n",
              " -5.351017441860465,\n",
              " -2.447674418604651,\n",
              " 2.125]"
            ]
          },
          "metadata": {},
          "execution_count": 35
        }
      ],
      "source": [
        "# Apply substitution method\n",
        "x = substitution_method(A, b, n)\n",
        "x"
      ]
    },
    {
      "cell_type": "code",
      "execution_count": null,
      "id": "993e0a78",
      "metadata": {
        "id": "993e0a78",
        "outputId": "6850a37b-6f78-4f18-d340-c8f8d5fe1de3",
        "colab": {
          "base_uri": "https://localhost:8080/"
        }
      },
      "outputs": [
        {
          "output_type": "execute_result",
          "data": {
            "text/plain": [
              "array([ 0.,  0.,  0.,  0., -0.,  0.,  0.,  0.,  0.,  0.])"
            ]
          },
          "metadata": {},
          "execution_count": 36
        }
      ],
      "source": [
        "# Compute norm between the matrix multiplication of A and our solution\n",
        "diff = A @ x - b\n",
        "diff"
      ]
    },
    {
      "cell_type": "code",
      "execution_count": null,
      "id": "4e2309fc",
      "metadata": {
        "id": "4e2309fc",
        "outputId": "3bff493c-0193-4c35-c9f5-f569c7750e6c",
        "colab": {
          "base_uri": "https://localhost:8080/"
        }
      },
      "outputs": [
        {
          "output_type": "stream",
          "name": "stdout",
          "text": [
            "Matrice Singulara\n"
          ]
        }
      ],
      "source": [
        "# Test if the matrix is singular\n",
        "A[2, 2] = 0\n",
        "\n",
        "try: \n",
        "    x = substitution_method(A, b, n)\n",
        "except Exception as e: \n",
        "    print(e)"
      ]
    },
    {
      "cell_type": "markdown",
      "id": "1f6293b8",
      "metadata": {
        "id": "1f6293b8"
      },
      "source": [
        "### 2. Algoritmul de eliminare Gauss\n",
        "\n",
        "\n",
        "Ideea de rezolvare este de a transforma succesiv sistemul folosind operaţii elementare (ce nu modifică soluţia sistemului) şi a aduce matricea $A$ la o formă superior triunghiulară . Algoritmul se desfăşoară în $(n-1)$ paşi. La un pas $l$ oarecare se transformă coloana $l$ a matricei $A$ în formă superior triunghiulară fără a modifica forma triunghiulară a primelor $(l-1)$ coloane.\n",
        "\n",
        "\n",
        "**Pas $l$ :** Presupunem că elementul de pe poziţia $(l, l)$ numit şi element pivot este nenul, $a_{l l} \\neq 0$. Pentru $i=l+1, \\ldots, n$ se înmulteste linia $l$ a matricei $A$ $\\mathrm{cu}\\left(-a_{i l} / a_{l l}\\right)$ şi se adună la linia $i$. Schimbare se face şi asupra componentei $i$ a vectorului $b$. Matricea $A$ şi vectorul $b$ se modifică astfel:\n",
        "$$\n",
        "\\begin{aligned}\n",
        "&a_{i j}^{\\prime}=a_{i j}-\\frac{a_{i l}}{a_{l l}} a_{l j} \\quad, \\quad i=\\overline{l+1, n}, j=\\overline{l+1, n}  &(5)\\\\\n",
        "&b_{i}^{\\prime}=b_{i}-\\frac{a_{i l}}{a_{l l}} b_{l} \\quad, \\quad i=\\overline{l+1, n}  &(6)\\\\\n",
        "&a_{i l}^{\\prime}=0 \\quad, \\quad i=\\overline{l+1, n}, &(7)\\\\\n",
        "&a_{i j}^{\\prime}=a_{i j} \\quad, \\quad b_{i}^{\\prime}=b_{i} \\text { pentru restul indicilor } i, j\n",
        "\\end{aligned}\n",
        "$$\n",
        "\n",
        "In formula $(5)$ factorul $f=\\frac{a_{i l}}{a_{l l}}$ se calculează în afara buclei for pentru $j$."
      ]
    },
    {
      "cell_type": "markdown",
      "id": "5b250a58",
      "metadata": {
        "id": "5b250a58"
      },
      "source": [
        "#### Alegerea pivotului $a_{l l} \\neq 0\\left(\\left|a_{l l}\\right|>\\epsilon\\right)$\n",
        "\n",
        "Pentru a aduce pe poziţia $(l, l)$ un element nenul avem trei posibilităti:\n",
        "1. **Varianta fără pivotare** : Se alege primul indice $i_{0} \\in\\{l, l+1, \\cdots, n\\}$ astfel ca $a_{i_{0} l} \\neq 0$. Se interschimbă liniile $i_{0}$ şi $l$ ale matricei $A$ şi componentele $i_{0}$ şi $l$ ale vectorului $b$.\n",
        "2. **Varianta cu pivotare parțială**: \n",
        "Se alege indicele $i_{0} \\in\\{l, l+1, \\cdots, n\\}$ astfel ca:\n",
        "$$\n",
        "\\left|a_{i_{0} l}\\right|=\\max \\left\\{\\left|a_{i l}\\right|, i=\\overline{l, n}\\right\\} .\n",
        "$$\n",
        "Se interschimbă liniile $i_{0}$ şi $l$ ale matricei $A$ şi componentele $i_{0}$ şi $l$ ale vectorului $b$.\n",
        "3. **Varianta cu pivotare totală** \n",
        "Se aleg indicii $i_{0}, j_{0} \\in\\{l, l+1, \\cdots, n\\}$ astfel ca:\n",
        "$$\n",
        "\\left|a_{i_{0} j_{0}}\\right|=\\max \\left\\{\\left|a_{i j}\\right|, i=\\overline{l, n}, j=\\overline{l, n}\\right\\} .\n",
        "$$\n",
        "Se interschimbă liniile $i_{0}$ şi $l$, coloanele $j_{0}$ şi $l$ ale matricei $A$ şi componentele $i_{0}$ şi $l$ ale vectorului $b$.\n",
        "Dacă după efectuarea pivotării (indiferent de varianta de pivotare aleasă) elementul pivot este nul\n",
        "$$\n",
        "a_{l l}=0 \\quad \\sim \\quad \\operatorname{abs}(a[l, l]) \\leq \\epsilon\n",
        "$$\n",
        "atunci matricea $A$ este singulară.\n",
        "\n",
        "**Observaţii:**\n",
        "1. In pasul Gauss $l$ $(5)+(6)+(7)$ calculele se pot efectua în matricea $A$ iniţială $\\left(a^{\\prime}=a\\right)$.\n",
        "\n",
        "2. Dacă pentru memorarea matricei $A$ şi a vectorului $b$ se foloseşte o matrice cu $n$ linii şi $(n+1)$ coloane, vectorul $b$ fiind memorat în coloana $(n+1)$ a matricei $A$, calculele $(6)$ sunt incluse în $(5)$ pentru $j=n+1$; se simplifică şi interschimbarea liniilor $i_{0}$ şi $l$.\n",
        "\n",
        "3. Dacă pivotul se alege folosind varianta a 3-a, cu pivotare totală, la final trebuie să avem grijă sa restabilim ordinea iniţială a componentelor vectorului soluţie (ţinând cont de coloana $j_{0}$ a pivotului de la fiecare pas)."
      ]
    },
    {
      "cell_type": "markdown",
      "id": "93bbc9f1",
      "metadata": {
        "id": "93bbc9f1"
      },
      "source": [
        "#### Exemplu pentru algoritmul de eliminare Gauss\n",
        "\n",
        "Youtube: https://www.youtube.com/watch?v=2j5Ic2V7wq4 - puteti cauta si altele pt \"Gaussian elimination\"\n",
        "\n",
        "Exemplul din tema (fara pivotare):\n",
        "$$\n",
        "A=\\left(\\begin{array}{lll}\n",
        "2 & 0 & 1 \\\\\n",
        "0 & 2 & 1 \\\\\n",
        "4 & 4 & 6\n",
        "\\end{array}\\right) x=\\left(\\begin{array}{c}\n",
        "5 \\\\\n",
        "1 \\\\\n",
        "14\n",
        "\\end{array}\\right)\n",
        "$$\n",
        "\n",
        "1. **Pasul 1:** Verificam daca $a_{11}$ este nenul. Raspunsul este da, deci $a_{11}$ este un pivot valid. Astfel putem incepe sa facem valorile $a_{21}$ si $a_{31}$ nule.\n",
        "  * $a_{21}$ este deja nul, deci vom alsa linia $2$ neschimbata\n",
        "  * $a_{31}$ nu este nul, deci incercam sa facem elementul 0 inmultind linia 3 cu valoarea $(−𝑎_{𝑖𝑙}/𝑎{𝑙𝑙})$ unde $i = 3$, asadar Linia 3 devine $Linia3-2 * Linia 1$\n",
        "  Asadar\n",
        "  $$\n",
        "A=\\left(\\begin{array}{lll}\n",
        "2 & 0 & 1 \\\\\n",
        "0 & 2 & 1 \\\\\n",
        "0 & 4 & 4\n",
        "\\end{array}\\right) x=\\left(\\begin{array}{c}\n",
        "5 \\\\\n",
        "1 \\\\\n",
        "4\n",
        "\\end{array}\\right)\n",
        "$$\n",
        "\n",
        "1. **Pasul 2:** Verificam daca $a_{22}$ este nenul. Raspunsul este da, deci $a_{22}$ este un pivot valid. Astfel putem incepe sa facem valorea $a_{23}$ nula.\n",
        "  * $a_{23}$ nu este nula, deci incercam sa facem elementul 0 inmultind linia 2 cu -4/2 si adunand la linia 3\n",
        "  Asadar\n",
        "  $$\n",
        "A=\\left(\\begin{array}{lll}\n",
        "2 & 0 & 1 \\\\\n",
        "0 & 2 & 1 \\\\\n",
        "0 & 0 & 2\n",
        "\\end{array}\\right) x=\\left(\\begin{array}{c}\n",
        "5 \\\\\n",
        "1 \\\\\n",
        "2\n",
        "\\end{array}\\right)\n",
        "$$"
      ]
    },
    {
      "cell_type": "code",
      "execution_count": null,
      "id": "4c70572e",
      "metadata": {
        "id": "4c70572e",
        "outputId": "3197c9e2-1389-4cef-d015-1224f5d8a231",
        "colab": {
          "base_uri": "https://localhost:8080/"
        }
      },
      "outputs": [
        {
          "output_type": "execute_result",
          "data": {
            "text/plain": [
              "(array([[54, 26, 49, 18, 33],\n",
              "        [82, 81, 42, 91, 13],\n",
              "        [31, 82, 18, 17,  1],\n",
              "        [32, 74, 65, 39, 23],\n",
              "        [97, 67, 68, 63, 96]]), array([28, 83, 63, 78, 49]))"
            ]
          },
          "metadata": {},
          "execution_count": 38
        }
      ],
      "source": [
        "# Generate random superior triangular system\n",
        "n = 5\n",
        "A = np.random.randint(low=1, high=100, size=n*n).reshape(n, n)\n",
        "b = np.random.randint(low=1, high=100, size=n)\n",
        "A, b"
      ]
    },
    {
      "cell_type": "code",
      "source": [
        "def pivot(a, b, n, l):\n",
        "  i0 = cmax = -1\n",
        "  for i in range(l, n):\n",
        "    if a[i][l] > cmax:\n",
        "      cmax = a[i][l]\n",
        "      i0 = i\n",
        "  c = np.copy(a[l])\n",
        "  d = np.copy(a[i0])\n",
        "  a[i0], a[l] = c, d\n",
        "  b[i0], b[l] = b[l], b[i0]\n",
        "  return a, b\n",
        "\n"
      ],
      "metadata": {
        "id": "9Zsb8OQ3r3KR"
      },
      "id": "9Zsb8OQ3r3KR",
      "execution_count": null,
      "outputs": []
    },
    {
      "cell_type": "code",
      "source": [
        "def gauss_algorithm(a, b, n):\n",
        "  evo = []\n",
        "  for l in range(0, n):\n",
        "    evo.append(np.copy(a))\n",
        "    a, b = pivot(a, b, n, l)\n",
        "    for i in range(l + 1, n):\n",
        "      if abs(a[l][l]) > 1e-15:\n",
        "        coef = a[i][l] / a[l][l]\n",
        "      else:\n",
        "        raise Exception(\"Matrice Singulara\")\n",
        "      b[i] -= coef * b[l] # 6\n",
        "      for j in range(l + 1, n):\n",
        "        a[i][j] -= coef * a[l][j] # 5\n",
        "      a[i][l] = 0 # 7\n",
        "  return a, b, evo"
      ],
      "metadata": {
        "id": "5-H_ny0kkIzi"
      },
      "id": "5-H_ny0kkIzi",
      "execution_count": null,
      "outputs": []
    },
    {
      "cell_type": "code",
      "execution_count": null,
      "id": "26c8d67d",
      "metadata": {
        "id": "26c8d67d",
        "outputId": "dca4f02e-2b4b-48cb-f0bf-5641437a9366",
        "colab": {
          "base_uri": "https://localhost:8080/"
        }
      },
      "outputs": [
        {
          "output_type": "execute_result",
          "data": {
            "text/plain": [
              "(array([[ 97,  67,  68,  63,  96],\n",
              "        [  0,  60,  -3,  -3, -29],\n",
              "        [  0,   0,  44,  20,  16],\n",
              "        [  0,   0,   0,  43, -51],\n",
              "        [  0,   0,   0,   0, -52]]),\n",
              " array([49, 47, 21, 28, 16]),\n",
              " [array([[54, 26, 49, 18, 33],\n",
              "         [82, 81, 42, 91, 13],\n",
              "         [31, 82, 18, 17,  1],\n",
              "         [32, 74, 65, 39, 23],\n",
              "         [97, 67, 68, 63, 96]]), array([[ 97,  67,  68,  63,  96],\n",
              "         [  0,  24, -15,  37, -68],\n",
              "         [  0,  60,  -3,  -3, -29],\n",
              "         [  0,  51,  42,  18,  -8],\n",
              "         [  0, -11,  11, -17, -20]]), array([[ 97,  67,  68,  63,  96],\n",
              "         [  0,  60,  -3,  -3, -29],\n",
              "         [  0,   0, -13,  38, -56],\n",
              "         [  0,   0,  44,  20,  16],\n",
              "         [  0,   0,  10, -17, -25]]), array([[ 97,  67,  68,  63,  96],\n",
              "         [  0,  60,  -3,  -3, -29],\n",
              "         [  0,   0,  44,  20,  16],\n",
              "         [  0,   0,   0,  43, -51],\n",
              "         [  0,   0,   0, -21, -28]]), array([[ 97,  67,  68,  63,  96],\n",
              "         [  0,  60,  -3,  -3, -29],\n",
              "         [  0,   0,  44,  20,  16],\n",
              "         [  0,   0,   0,  43, -51],\n",
              "         [  0,   0,   0,   0, -52]])])"
            ]
          },
          "metadata": {},
          "execution_count": 41
        }
      ],
      "source": [
        "A_gauss, b_gauss, evo = gauss_algorithm(A, b, n) # here is presented the first method\n",
        "A_gauss, b_gauss, evo"
      ]
    },
    {
      "cell_type": "code",
      "source": [
        "def plot_matrix_evolution(evo, A_gauss, label):\n",
        "  for i in range(len(evo)):\n",
        "    matrix = []\n",
        "    for j in range(len(A_gauss)):\n",
        "      line = []\n",
        "      for k in range(len(A_gauss[j])):\n",
        "        line.append((A_gauss[j][k] - evo[i][j][k]) ** 2)\n",
        "      matrix.append(np.copy(line))\n",
        "      line.clear()\n",
        "    fig = px.imshow(matrix,labels=dict(x=label,color=\"value\"))\n",
        "    fig.update_xaxes(side=\"top\")\n",
        "    fig.show()"
      ],
      "metadata": {
        "id": "GrfZhO-4E7xe"
      },
      "id": "GrfZhO-4E7xe",
      "execution_count": null,
      "outputs": []
    },
    {
      "cell_type": "code",
      "execution_count": null,
      "id": "870cb14e",
      "metadata": {
        "id": "870cb14e",
        "colab": {
          "base_uri": "https://localhost:8080/",
          "height": 1000
        },
        "outputId": "1f1ee691-0efa-497c-e355-ecb6985d86d8"
      },
      "outputs": [
        {
          "output_type": "display_data",
          "data": {
            "text/html": [
              "<html>\n",
              "<head><meta charset=\"utf-8\" /></head>\n",
              "<body>\n",
              "    <div>            <script src=\"https://cdnjs.cloudflare.com/ajax/libs/mathjax/2.7.5/MathJax.js?config=TeX-AMS-MML_SVG\"></script><script type=\"text/javascript\">if (window.MathJax) {MathJax.Hub.Config({SVG: {font: \"STIX-Web\"}});}</script>                <script type=\"text/javascript\">window.PlotlyConfig = {MathJaxConfig: 'local'};</script>\n",
              "        <script src=\"https://cdn.plot.ly/plotly-2.9.0.min.js\"></script>                <div id=\"7f4dae2e-e56d-4ba2-b0d3-f1104da8328b\" class=\"plotly-graph-div\" style=\"height:525px; width:100%;\"></div>            <script type=\"text/javascript\">                                    window.PLOTLYENV=window.PLOTLYENV || {};                                    if (document.getElementById(\"7f4dae2e-e56d-4ba2-b0d3-f1104da8328b\")) {                    Plotly.newPlot(                        \"7f4dae2e-e56d-4ba2-b0d3-f1104da8328b\",                        [{\"coloraxis\":\"coloraxis\",\"name\":\"0\",\"z\":[[1849,1681,361,2025,3969],[6724,441,2025,8836,1764],[961,6724,676,9,225],[1024,5476,4225,16,5476],[9409,4489,4624,3969,21904]],\"type\":\"heatmap\",\"xaxis\":\"x\",\"yaxis\":\"y\",\"hovertemplate\":\"Gauss algorithm matrix evolution: %{x}<br>y: %{y}<br>value: %{z}<extra></extra>\"}],                        {\"template\":{\"data\":{\"bar\":[{\"error_x\":{\"color\":\"#2a3f5f\"},\"error_y\":{\"color\":\"#2a3f5f\"},\"marker\":{\"line\":{\"color\":\"#E5ECF6\",\"width\":0.5},\"pattern\":{\"fillmode\":\"overlay\",\"size\":10,\"solidity\":0.2}},\"type\":\"bar\"}],\"barpolar\":[{\"marker\":{\"line\":{\"color\":\"#E5ECF6\",\"width\":0.5},\"pattern\":{\"fillmode\":\"overlay\",\"size\":10,\"solidity\":0.2}},\"type\":\"barpolar\"}],\"carpet\":[{\"aaxis\":{\"endlinecolor\":\"#2a3f5f\",\"gridcolor\":\"white\",\"linecolor\":\"white\",\"minorgridcolor\":\"white\",\"startlinecolor\":\"#2a3f5f\"},\"baxis\":{\"endlinecolor\":\"#2a3f5f\",\"gridcolor\":\"white\",\"linecolor\":\"white\",\"minorgridcolor\":\"white\",\"startlinecolor\":\"#2a3f5f\"},\"type\":\"carpet\"}],\"choropleth\":[{\"colorbar\":{\"outlinewidth\":0,\"ticks\":\"\"},\"type\":\"choropleth\"}],\"contour\":[{\"colorbar\":{\"outlinewidth\":0,\"ticks\":\"\"},\"colorscale\":[[0.0,\"#0d0887\"],[0.1111111111111111,\"#46039f\"],[0.2222222222222222,\"#7201a8\"],[0.3333333333333333,\"#9c179e\"],[0.4444444444444444,\"#bd3786\"],[0.5555555555555556,\"#d8576b\"],[0.6666666666666666,\"#ed7953\"],[0.7777777777777778,\"#fb9f3a\"],[0.8888888888888888,\"#fdca26\"],[1.0,\"#f0f921\"]],\"type\":\"contour\"}],\"contourcarpet\":[{\"colorbar\":{\"outlinewidth\":0,\"ticks\":\"\"},\"type\":\"contourcarpet\"}],\"heatmap\":[{\"colorbar\":{\"outlinewidth\":0,\"ticks\":\"\"},\"colorscale\":[[0.0,\"#0d0887\"],[0.1111111111111111,\"#46039f\"],[0.2222222222222222,\"#7201a8\"],[0.3333333333333333,\"#9c179e\"],[0.4444444444444444,\"#bd3786\"],[0.5555555555555556,\"#d8576b\"],[0.6666666666666666,\"#ed7953\"],[0.7777777777777778,\"#fb9f3a\"],[0.8888888888888888,\"#fdca26\"],[1.0,\"#f0f921\"]],\"type\":\"heatmap\"}],\"heatmapgl\":[{\"colorbar\":{\"outlinewidth\":0,\"ticks\":\"\"},\"colorscale\":[[0.0,\"#0d0887\"],[0.1111111111111111,\"#46039f\"],[0.2222222222222222,\"#7201a8\"],[0.3333333333333333,\"#9c179e\"],[0.4444444444444444,\"#bd3786\"],[0.5555555555555556,\"#d8576b\"],[0.6666666666666666,\"#ed7953\"],[0.7777777777777778,\"#fb9f3a\"],[0.8888888888888888,\"#fdca26\"],[1.0,\"#f0f921\"]],\"type\":\"heatmapgl\"}],\"histogram\":[{\"marker\":{\"pattern\":{\"fillmode\":\"overlay\",\"size\":10,\"solidity\":0.2}},\"type\":\"histogram\"}],\"histogram2d\":[{\"colorbar\":{\"outlinewidth\":0,\"ticks\":\"\"},\"colorscale\":[[0.0,\"#0d0887\"],[0.1111111111111111,\"#46039f\"],[0.2222222222222222,\"#7201a8\"],[0.3333333333333333,\"#9c179e\"],[0.4444444444444444,\"#bd3786\"],[0.5555555555555556,\"#d8576b\"],[0.6666666666666666,\"#ed7953\"],[0.7777777777777778,\"#fb9f3a\"],[0.8888888888888888,\"#fdca26\"],[1.0,\"#f0f921\"]],\"type\":\"histogram2d\"}],\"histogram2dcontour\":[{\"colorbar\":{\"outlinewidth\":0,\"ticks\":\"\"},\"colorscale\":[[0.0,\"#0d0887\"],[0.1111111111111111,\"#46039f\"],[0.2222222222222222,\"#7201a8\"],[0.3333333333333333,\"#9c179e\"],[0.4444444444444444,\"#bd3786\"],[0.5555555555555556,\"#d8576b\"],[0.6666666666666666,\"#ed7953\"],[0.7777777777777778,\"#fb9f3a\"],[0.8888888888888888,\"#fdca26\"],[1.0,\"#f0f921\"]],\"type\":\"histogram2dcontour\"}],\"mesh3d\":[{\"colorbar\":{\"outlinewidth\":0,\"ticks\":\"\"},\"type\":\"mesh3d\"}],\"parcoords\":[{\"line\":{\"colorbar\":{\"outlinewidth\":0,\"ticks\":\"\"}},\"type\":\"parcoords\"}],\"pie\":[{\"automargin\":true,\"type\":\"pie\"}],\"scatter\":[{\"marker\":{\"colorbar\":{\"outlinewidth\":0,\"ticks\":\"\"}},\"type\":\"scatter\"}],\"scatter3d\":[{\"line\":{\"colorbar\":{\"outlinewidth\":0,\"ticks\":\"\"}},\"marker\":{\"colorbar\":{\"outlinewidth\":0,\"ticks\":\"\"}},\"type\":\"scatter3d\"}],\"scattercarpet\":[{\"marker\":{\"colorbar\":{\"outlinewidth\":0,\"ticks\":\"\"}},\"type\":\"scattercarpet\"}],\"scattergeo\":[{\"marker\":{\"colorbar\":{\"outlinewidth\":0,\"ticks\":\"\"}},\"type\":\"scattergeo\"}],\"scattergl\":[{\"marker\":{\"colorbar\":{\"outlinewidth\":0,\"ticks\":\"\"}},\"type\":\"scattergl\"}],\"scattermapbox\":[{\"marker\":{\"colorbar\":{\"outlinewidth\":0,\"ticks\":\"\"}},\"type\":\"scattermapbox\"}],\"scatterpolar\":[{\"marker\":{\"colorbar\":{\"outlinewidth\":0,\"ticks\":\"\"}},\"type\":\"scatterpolar\"}],\"scatterpolargl\":[{\"marker\":{\"colorbar\":{\"outlinewidth\":0,\"ticks\":\"\"}},\"type\":\"scatterpolargl\"}],\"scatterternary\":[{\"marker\":{\"colorbar\":{\"outlinewidth\":0,\"ticks\":\"\"}},\"type\":\"scatterternary\"}],\"surface\":[{\"colorbar\":{\"outlinewidth\":0,\"ticks\":\"\"},\"colorscale\":[[0.0,\"#0d0887\"],[0.1111111111111111,\"#46039f\"],[0.2222222222222222,\"#7201a8\"],[0.3333333333333333,\"#9c179e\"],[0.4444444444444444,\"#bd3786\"],[0.5555555555555556,\"#d8576b\"],[0.6666666666666666,\"#ed7953\"],[0.7777777777777778,\"#fb9f3a\"],[0.8888888888888888,\"#fdca26\"],[1.0,\"#f0f921\"]],\"type\":\"surface\"}],\"table\":[{\"cells\":{\"fill\":{\"color\":\"#EBF0F8\"},\"line\":{\"color\":\"white\"}},\"header\":{\"fill\":{\"color\":\"#C8D4E3\"},\"line\":{\"color\":\"white\"}},\"type\":\"table\"}]},\"layout\":{\"annotationdefaults\":{\"arrowcolor\":\"#2a3f5f\",\"arrowhead\":0,\"arrowwidth\":1},\"autotypenumbers\":\"strict\",\"coloraxis\":{\"colorbar\":{\"outlinewidth\":0,\"ticks\":\"\"}},\"colorscale\":{\"diverging\":[[0,\"#8e0152\"],[0.1,\"#c51b7d\"],[0.2,\"#de77ae\"],[0.3,\"#f1b6da\"],[0.4,\"#fde0ef\"],[0.5,\"#f7f7f7\"],[0.6,\"#e6f5d0\"],[0.7,\"#b8e186\"],[0.8,\"#7fbc41\"],[0.9,\"#4d9221\"],[1,\"#276419\"]],\"sequential\":[[0.0,\"#0d0887\"],[0.1111111111111111,\"#46039f\"],[0.2222222222222222,\"#7201a8\"],[0.3333333333333333,\"#9c179e\"],[0.4444444444444444,\"#bd3786\"],[0.5555555555555556,\"#d8576b\"],[0.6666666666666666,\"#ed7953\"],[0.7777777777777778,\"#fb9f3a\"],[0.8888888888888888,\"#fdca26\"],[1.0,\"#f0f921\"]],\"sequentialminus\":[[0.0,\"#0d0887\"],[0.1111111111111111,\"#46039f\"],[0.2222222222222222,\"#7201a8\"],[0.3333333333333333,\"#9c179e\"],[0.4444444444444444,\"#bd3786\"],[0.5555555555555556,\"#d8576b\"],[0.6666666666666666,\"#ed7953\"],[0.7777777777777778,\"#fb9f3a\"],[0.8888888888888888,\"#fdca26\"],[1.0,\"#f0f921\"]]},\"colorway\":[\"#636efa\",\"#EF553B\",\"#00cc96\",\"#ab63fa\",\"#FFA15A\",\"#19d3f3\",\"#FF6692\",\"#B6E880\",\"#FF97FF\",\"#FECB52\"],\"font\":{\"color\":\"#2a3f5f\"},\"geo\":{\"bgcolor\":\"white\",\"lakecolor\":\"white\",\"landcolor\":\"#E5ECF6\",\"showlakes\":true,\"showland\":true,\"subunitcolor\":\"white\"},\"hoverlabel\":{\"align\":\"left\"},\"hovermode\":\"closest\",\"mapbox\":{\"style\":\"light\"},\"paper_bgcolor\":\"white\",\"plot_bgcolor\":\"#E5ECF6\",\"polar\":{\"angularaxis\":{\"gridcolor\":\"white\",\"linecolor\":\"white\",\"ticks\":\"\"},\"bgcolor\":\"#E5ECF6\",\"radialaxis\":{\"gridcolor\":\"white\",\"linecolor\":\"white\",\"ticks\":\"\"}},\"scene\":{\"xaxis\":{\"backgroundcolor\":\"#E5ECF6\",\"gridcolor\":\"white\",\"gridwidth\":2,\"linecolor\":\"white\",\"showbackground\":true,\"ticks\":\"\",\"zerolinecolor\":\"white\"},\"yaxis\":{\"backgroundcolor\":\"#E5ECF6\",\"gridcolor\":\"white\",\"gridwidth\":2,\"linecolor\":\"white\",\"showbackground\":true,\"ticks\":\"\",\"zerolinecolor\":\"white\"},\"zaxis\":{\"backgroundcolor\":\"#E5ECF6\",\"gridcolor\":\"white\",\"gridwidth\":2,\"linecolor\":\"white\",\"showbackground\":true,\"ticks\":\"\",\"zerolinecolor\":\"white\"}},\"shapedefaults\":{\"line\":{\"color\":\"#2a3f5f\"}},\"ternary\":{\"aaxis\":{\"gridcolor\":\"white\",\"linecolor\":\"white\",\"ticks\":\"\"},\"baxis\":{\"gridcolor\":\"white\",\"linecolor\":\"white\",\"ticks\":\"\"},\"bgcolor\":\"#E5ECF6\",\"caxis\":{\"gridcolor\":\"white\",\"linecolor\":\"white\",\"ticks\":\"\"}},\"title\":{\"x\":0.05},\"xaxis\":{\"automargin\":true,\"gridcolor\":\"white\",\"linecolor\":\"white\",\"ticks\":\"\",\"title\":{\"standoff\":15},\"zerolinecolor\":\"white\",\"zerolinewidth\":2},\"yaxis\":{\"automargin\":true,\"gridcolor\":\"white\",\"linecolor\":\"white\",\"ticks\":\"\",\"title\":{\"standoff\":15},\"zerolinecolor\":\"white\",\"zerolinewidth\":2}}},\"xaxis\":{\"anchor\":\"y\",\"domain\":[0.0,1.0],\"scaleanchor\":\"y\",\"constrain\":\"domain\",\"title\":{\"text\":\"Gauss algorithm matrix evolution\"},\"side\":\"top\"},\"yaxis\":{\"anchor\":\"x\",\"domain\":[0.0,1.0],\"autorange\":\"reversed\",\"constrain\":\"domain\"},\"coloraxis\":{\"colorbar\":{\"title\":{\"text\":\"value\"}},\"colorscale\":[[0.0,\"#0d0887\"],[0.1111111111111111,\"#46039f\"],[0.2222222222222222,\"#7201a8\"],[0.3333333333333333,\"#9c179e\"],[0.4444444444444444,\"#bd3786\"],[0.5555555555555556,\"#d8576b\"],[0.6666666666666666,\"#ed7953\"],[0.7777777777777778,\"#fb9f3a\"],[0.8888888888888888,\"#fdca26\"],[1.0,\"#f0f921\"]]},\"margin\":{\"t\":60}},                        {\"responsive\": true}                    ).then(function(){\n",
              "                            \n",
              "var gd = document.getElementById('7f4dae2e-e56d-4ba2-b0d3-f1104da8328b');\n",
              "var x = new MutationObserver(function (mutations, observer) {{\n",
              "        var display = window.getComputedStyle(gd).display;\n",
              "        if (!display || display === 'none') {{\n",
              "            console.log([gd, 'removed!']);\n",
              "            Plotly.purge(gd);\n",
              "            observer.disconnect();\n",
              "        }}\n",
              "}});\n",
              "\n",
              "// Listen for the removal of the full notebook cells\n",
              "var notebookContainer = gd.closest('#notebook-container');\n",
              "if (notebookContainer) {{\n",
              "    x.observe(notebookContainer, {childList: true});\n",
              "}}\n",
              "\n",
              "// Listen for the clearing of the current output cell\n",
              "var outputEl = gd.closest('.output');\n",
              "if (outputEl) {{\n",
              "    x.observe(outputEl, {childList: true});\n",
              "}}\n",
              "\n",
              "                        })                };                            </script>        </div>\n",
              "</body>\n",
              "</html>"
            ]
          },
          "metadata": {}
        },
        {
          "output_type": "display_data",
          "data": {
            "text/html": [
              "<html>\n",
              "<head><meta charset=\"utf-8\" /></head>\n",
              "<body>\n",
              "    <div>            <script src=\"https://cdnjs.cloudflare.com/ajax/libs/mathjax/2.7.5/MathJax.js?config=TeX-AMS-MML_SVG\"></script><script type=\"text/javascript\">if (window.MathJax) {MathJax.Hub.Config({SVG: {font: \"STIX-Web\"}});}</script>                <script type=\"text/javascript\">window.PlotlyConfig = {MathJaxConfig: 'local'};</script>\n",
              "        <script src=\"https://cdn.plot.ly/plotly-2.9.0.min.js\"></script>                <div id=\"5470d4d7-34e1-496a-ad10-35cccae86a35\" class=\"plotly-graph-div\" style=\"height:525px; width:100%;\"></div>            <script type=\"text/javascript\">                                    window.PLOTLYENV=window.PLOTLYENV || {};                                    if (document.getElementById(\"5470d4d7-34e1-496a-ad10-35cccae86a35\")) {                    Plotly.newPlot(                        \"5470d4d7-34e1-496a-ad10-35cccae86a35\",                        [{\"coloraxis\":\"coloraxis\",\"name\":\"0\",\"z\":[[0,0,0,0,0],[0,1296,144,1600,1521],[0,3600,2209,529,2025],[0,2601,1764,625,1849],[0,121,121,289,1024]],\"type\":\"heatmap\",\"xaxis\":\"x\",\"yaxis\":\"y\",\"hovertemplate\":\"Gauss algorithm matrix evolution: %{x}<br>y: %{y}<br>value: %{z}<extra></extra>\"}],                        {\"template\":{\"data\":{\"bar\":[{\"error_x\":{\"color\":\"#2a3f5f\"},\"error_y\":{\"color\":\"#2a3f5f\"},\"marker\":{\"line\":{\"color\":\"#E5ECF6\",\"width\":0.5},\"pattern\":{\"fillmode\":\"overlay\",\"size\":10,\"solidity\":0.2}},\"type\":\"bar\"}],\"barpolar\":[{\"marker\":{\"line\":{\"color\":\"#E5ECF6\",\"width\":0.5},\"pattern\":{\"fillmode\":\"overlay\",\"size\":10,\"solidity\":0.2}},\"type\":\"barpolar\"}],\"carpet\":[{\"aaxis\":{\"endlinecolor\":\"#2a3f5f\",\"gridcolor\":\"white\",\"linecolor\":\"white\",\"minorgridcolor\":\"white\",\"startlinecolor\":\"#2a3f5f\"},\"baxis\":{\"endlinecolor\":\"#2a3f5f\",\"gridcolor\":\"white\",\"linecolor\":\"white\",\"minorgridcolor\":\"white\",\"startlinecolor\":\"#2a3f5f\"},\"type\":\"carpet\"}],\"choropleth\":[{\"colorbar\":{\"outlinewidth\":0,\"ticks\":\"\"},\"type\":\"choropleth\"}],\"contour\":[{\"colorbar\":{\"outlinewidth\":0,\"ticks\":\"\"},\"colorscale\":[[0.0,\"#0d0887\"],[0.1111111111111111,\"#46039f\"],[0.2222222222222222,\"#7201a8\"],[0.3333333333333333,\"#9c179e\"],[0.4444444444444444,\"#bd3786\"],[0.5555555555555556,\"#d8576b\"],[0.6666666666666666,\"#ed7953\"],[0.7777777777777778,\"#fb9f3a\"],[0.8888888888888888,\"#fdca26\"],[1.0,\"#f0f921\"]],\"type\":\"contour\"}],\"contourcarpet\":[{\"colorbar\":{\"outlinewidth\":0,\"ticks\":\"\"},\"type\":\"contourcarpet\"}],\"heatmap\":[{\"colorbar\":{\"outlinewidth\":0,\"ticks\":\"\"},\"colorscale\":[[0.0,\"#0d0887\"],[0.1111111111111111,\"#46039f\"],[0.2222222222222222,\"#7201a8\"],[0.3333333333333333,\"#9c179e\"],[0.4444444444444444,\"#bd3786\"],[0.5555555555555556,\"#d8576b\"],[0.6666666666666666,\"#ed7953\"],[0.7777777777777778,\"#fb9f3a\"],[0.8888888888888888,\"#fdca26\"],[1.0,\"#f0f921\"]],\"type\":\"heatmap\"}],\"heatmapgl\":[{\"colorbar\":{\"outlinewidth\":0,\"ticks\":\"\"},\"colorscale\":[[0.0,\"#0d0887\"],[0.1111111111111111,\"#46039f\"],[0.2222222222222222,\"#7201a8\"],[0.3333333333333333,\"#9c179e\"],[0.4444444444444444,\"#bd3786\"],[0.5555555555555556,\"#d8576b\"],[0.6666666666666666,\"#ed7953\"],[0.7777777777777778,\"#fb9f3a\"],[0.8888888888888888,\"#fdca26\"],[1.0,\"#f0f921\"]],\"type\":\"heatmapgl\"}],\"histogram\":[{\"marker\":{\"pattern\":{\"fillmode\":\"overlay\",\"size\":10,\"solidity\":0.2}},\"type\":\"histogram\"}],\"histogram2d\":[{\"colorbar\":{\"outlinewidth\":0,\"ticks\":\"\"},\"colorscale\":[[0.0,\"#0d0887\"],[0.1111111111111111,\"#46039f\"],[0.2222222222222222,\"#7201a8\"],[0.3333333333333333,\"#9c179e\"],[0.4444444444444444,\"#bd3786\"],[0.5555555555555556,\"#d8576b\"],[0.6666666666666666,\"#ed7953\"],[0.7777777777777778,\"#fb9f3a\"],[0.8888888888888888,\"#fdca26\"],[1.0,\"#f0f921\"]],\"type\":\"histogram2d\"}],\"histogram2dcontour\":[{\"colorbar\":{\"outlinewidth\":0,\"ticks\":\"\"},\"colorscale\":[[0.0,\"#0d0887\"],[0.1111111111111111,\"#46039f\"],[0.2222222222222222,\"#7201a8\"],[0.3333333333333333,\"#9c179e\"],[0.4444444444444444,\"#bd3786\"],[0.5555555555555556,\"#d8576b\"],[0.6666666666666666,\"#ed7953\"],[0.7777777777777778,\"#fb9f3a\"],[0.8888888888888888,\"#fdca26\"],[1.0,\"#f0f921\"]],\"type\":\"histogram2dcontour\"}],\"mesh3d\":[{\"colorbar\":{\"outlinewidth\":0,\"ticks\":\"\"},\"type\":\"mesh3d\"}],\"parcoords\":[{\"line\":{\"colorbar\":{\"outlinewidth\":0,\"ticks\":\"\"}},\"type\":\"parcoords\"}],\"pie\":[{\"automargin\":true,\"type\":\"pie\"}],\"scatter\":[{\"marker\":{\"colorbar\":{\"outlinewidth\":0,\"ticks\":\"\"}},\"type\":\"scatter\"}],\"scatter3d\":[{\"line\":{\"colorbar\":{\"outlinewidth\":0,\"ticks\":\"\"}},\"marker\":{\"colorbar\":{\"outlinewidth\":0,\"ticks\":\"\"}},\"type\":\"scatter3d\"}],\"scattercarpet\":[{\"marker\":{\"colorbar\":{\"outlinewidth\":0,\"ticks\":\"\"}},\"type\":\"scattercarpet\"}],\"scattergeo\":[{\"marker\":{\"colorbar\":{\"outlinewidth\":0,\"ticks\":\"\"}},\"type\":\"scattergeo\"}],\"scattergl\":[{\"marker\":{\"colorbar\":{\"outlinewidth\":0,\"ticks\":\"\"}},\"type\":\"scattergl\"}],\"scattermapbox\":[{\"marker\":{\"colorbar\":{\"outlinewidth\":0,\"ticks\":\"\"}},\"type\":\"scattermapbox\"}],\"scatterpolar\":[{\"marker\":{\"colorbar\":{\"outlinewidth\":0,\"ticks\":\"\"}},\"type\":\"scatterpolar\"}],\"scatterpolargl\":[{\"marker\":{\"colorbar\":{\"outlinewidth\":0,\"ticks\":\"\"}},\"type\":\"scatterpolargl\"}],\"scatterternary\":[{\"marker\":{\"colorbar\":{\"outlinewidth\":0,\"ticks\":\"\"}},\"type\":\"scatterternary\"}],\"surface\":[{\"colorbar\":{\"outlinewidth\":0,\"ticks\":\"\"},\"colorscale\":[[0.0,\"#0d0887\"],[0.1111111111111111,\"#46039f\"],[0.2222222222222222,\"#7201a8\"],[0.3333333333333333,\"#9c179e\"],[0.4444444444444444,\"#bd3786\"],[0.5555555555555556,\"#d8576b\"],[0.6666666666666666,\"#ed7953\"],[0.7777777777777778,\"#fb9f3a\"],[0.8888888888888888,\"#fdca26\"],[1.0,\"#f0f921\"]],\"type\":\"surface\"}],\"table\":[{\"cells\":{\"fill\":{\"color\":\"#EBF0F8\"},\"line\":{\"color\":\"white\"}},\"header\":{\"fill\":{\"color\":\"#C8D4E3\"},\"line\":{\"color\":\"white\"}},\"type\":\"table\"}]},\"layout\":{\"annotationdefaults\":{\"arrowcolor\":\"#2a3f5f\",\"arrowhead\":0,\"arrowwidth\":1},\"autotypenumbers\":\"strict\",\"coloraxis\":{\"colorbar\":{\"outlinewidth\":0,\"ticks\":\"\"}},\"colorscale\":{\"diverging\":[[0,\"#8e0152\"],[0.1,\"#c51b7d\"],[0.2,\"#de77ae\"],[0.3,\"#f1b6da\"],[0.4,\"#fde0ef\"],[0.5,\"#f7f7f7\"],[0.6,\"#e6f5d0\"],[0.7,\"#b8e186\"],[0.8,\"#7fbc41\"],[0.9,\"#4d9221\"],[1,\"#276419\"]],\"sequential\":[[0.0,\"#0d0887\"],[0.1111111111111111,\"#46039f\"],[0.2222222222222222,\"#7201a8\"],[0.3333333333333333,\"#9c179e\"],[0.4444444444444444,\"#bd3786\"],[0.5555555555555556,\"#d8576b\"],[0.6666666666666666,\"#ed7953\"],[0.7777777777777778,\"#fb9f3a\"],[0.8888888888888888,\"#fdca26\"],[1.0,\"#f0f921\"]],\"sequentialminus\":[[0.0,\"#0d0887\"],[0.1111111111111111,\"#46039f\"],[0.2222222222222222,\"#7201a8\"],[0.3333333333333333,\"#9c179e\"],[0.4444444444444444,\"#bd3786\"],[0.5555555555555556,\"#d8576b\"],[0.6666666666666666,\"#ed7953\"],[0.7777777777777778,\"#fb9f3a\"],[0.8888888888888888,\"#fdca26\"],[1.0,\"#f0f921\"]]},\"colorway\":[\"#636efa\",\"#EF553B\",\"#00cc96\",\"#ab63fa\",\"#FFA15A\",\"#19d3f3\",\"#FF6692\",\"#B6E880\",\"#FF97FF\",\"#FECB52\"],\"font\":{\"color\":\"#2a3f5f\"},\"geo\":{\"bgcolor\":\"white\",\"lakecolor\":\"white\",\"landcolor\":\"#E5ECF6\",\"showlakes\":true,\"showland\":true,\"subunitcolor\":\"white\"},\"hoverlabel\":{\"align\":\"left\"},\"hovermode\":\"closest\",\"mapbox\":{\"style\":\"light\"},\"paper_bgcolor\":\"white\",\"plot_bgcolor\":\"#E5ECF6\",\"polar\":{\"angularaxis\":{\"gridcolor\":\"white\",\"linecolor\":\"white\",\"ticks\":\"\"},\"bgcolor\":\"#E5ECF6\",\"radialaxis\":{\"gridcolor\":\"white\",\"linecolor\":\"white\",\"ticks\":\"\"}},\"scene\":{\"xaxis\":{\"backgroundcolor\":\"#E5ECF6\",\"gridcolor\":\"white\",\"gridwidth\":2,\"linecolor\":\"white\",\"showbackground\":true,\"ticks\":\"\",\"zerolinecolor\":\"white\"},\"yaxis\":{\"backgroundcolor\":\"#E5ECF6\",\"gridcolor\":\"white\",\"gridwidth\":2,\"linecolor\":\"white\",\"showbackground\":true,\"ticks\":\"\",\"zerolinecolor\":\"white\"},\"zaxis\":{\"backgroundcolor\":\"#E5ECF6\",\"gridcolor\":\"white\",\"gridwidth\":2,\"linecolor\":\"white\",\"showbackground\":true,\"ticks\":\"\",\"zerolinecolor\":\"white\"}},\"shapedefaults\":{\"line\":{\"color\":\"#2a3f5f\"}},\"ternary\":{\"aaxis\":{\"gridcolor\":\"white\",\"linecolor\":\"white\",\"ticks\":\"\"},\"baxis\":{\"gridcolor\":\"white\",\"linecolor\":\"white\",\"ticks\":\"\"},\"bgcolor\":\"#E5ECF6\",\"caxis\":{\"gridcolor\":\"white\",\"linecolor\":\"white\",\"ticks\":\"\"}},\"title\":{\"x\":0.05},\"xaxis\":{\"automargin\":true,\"gridcolor\":\"white\",\"linecolor\":\"white\",\"ticks\":\"\",\"title\":{\"standoff\":15},\"zerolinecolor\":\"white\",\"zerolinewidth\":2},\"yaxis\":{\"automargin\":true,\"gridcolor\":\"white\",\"linecolor\":\"white\",\"ticks\":\"\",\"title\":{\"standoff\":15},\"zerolinecolor\":\"white\",\"zerolinewidth\":2}}},\"xaxis\":{\"anchor\":\"y\",\"domain\":[0.0,1.0],\"scaleanchor\":\"y\",\"constrain\":\"domain\",\"title\":{\"text\":\"Gauss algorithm matrix evolution\"},\"side\":\"top\"},\"yaxis\":{\"anchor\":\"x\",\"domain\":[0.0,1.0],\"autorange\":\"reversed\",\"constrain\":\"domain\"},\"coloraxis\":{\"colorbar\":{\"title\":{\"text\":\"value\"}},\"colorscale\":[[0.0,\"#0d0887\"],[0.1111111111111111,\"#46039f\"],[0.2222222222222222,\"#7201a8\"],[0.3333333333333333,\"#9c179e\"],[0.4444444444444444,\"#bd3786\"],[0.5555555555555556,\"#d8576b\"],[0.6666666666666666,\"#ed7953\"],[0.7777777777777778,\"#fb9f3a\"],[0.8888888888888888,\"#fdca26\"],[1.0,\"#f0f921\"]]},\"margin\":{\"t\":60}},                        {\"responsive\": true}                    ).then(function(){\n",
              "                            \n",
              "var gd = document.getElementById('5470d4d7-34e1-496a-ad10-35cccae86a35');\n",
              "var x = new MutationObserver(function (mutations, observer) {{\n",
              "        var display = window.getComputedStyle(gd).display;\n",
              "        if (!display || display === 'none') {{\n",
              "            console.log([gd, 'removed!']);\n",
              "            Plotly.purge(gd);\n",
              "            observer.disconnect();\n",
              "        }}\n",
              "}});\n",
              "\n",
              "// Listen for the removal of the full notebook cells\n",
              "var notebookContainer = gd.closest('#notebook-container');\n",
              "if (notebookContainer) {{\n",
              "    x.observe(notebookContainer, {childList: true});\n",
              "}}\n",
              "\n",
              "// Listen for the clearing of the current output cell\n",
              "var outputEl = gd.closest('.output');\n",
              "if (outputEl) {{\n",
              "    x.observe(outputEl, {childList: true});\n",
              "}}\n",
              "\n",
              "                        })                };                            </script>        </div>\n",
              "</body>\n",
              "</html>"
            ]
          },
          "metadata": {}
        },
        {
          "output_type": "display_data",
          "data": {
            "text/html": [
              "<html>\n",
              "<head><meta charset=\"utf-8\" /></head>\n",
              "<body>\n",
              "    <div>            <script src=\"https://cdnjs.cloudflare.com/ajax/libs/mathjax/2.7.5/MathJax.js?config=TeX-AMS-MML_SVG\"></script><script type=\"text/javascript\">if (window.MathJax) {MathJax.Hub.Config({SVG: {font: \"STIX-Web\"}});}</script>                <script type=\"text/javascript\">window.PlotlyConfig = {MathJaxConfig: 'local'};</script>\n",
              "        <script src=\"https://cdn.plot.ly/plotly-2.9.0.min.js\"></script>                <div id=\"a32b69f2-cedb-4e08-9510-e7292ea4c254\" class=\"plotly-graph-div\" style=\"height:525px; width:100%;\"></div>            <script type=\"text/javascript\">                                    window.PLOTLYENV=window.PLOTLYENV || {};                                    if (document.getElementById(\"a32b69f2-cedb-4e08-9510-e7292ea4c254\")) {                    Plotly.newPlot(                        \"a32b69f2-cedb-4e08-9510-e7292ea4c254\",                        [{\"coloraxis\":\"coloraxis\",\"name\":\"0\",\"z\":[[0,0,0,0,0],[0,0,0,0,0],[0,0,3249,324,5184],[0,0,1936,529,4489],[0,0,100,289,729]],\"type\":\"heatmap\",\"xaxis\":\"x\",\"yaxis\":\"y\",\"hovertemplate\":\"Gauss algorithm matrix evolution: %{x}<br>y: %{y}<br>value: %{z}<extra></extra>\"}],                        {\"template\":{\"data\":{\"bar\":[{\"error_x\":{\"color\":\"#2a3f5f\"},\"error_y\":{\"color\":\"#2a3f5f\"},\"marker\":{\"line\":{\"color\":\"#E5ECF6\",\"width\":0.5},\"pattern\":{\"fillmode\":\"overlay\",\"size\":10,\"solidity\":0.2}},\"type\":\"bar\"}],\"barpolar\":[{\"marker\":{\"line\":{\"color\":\"#E5ECF6\",\"width\":0.5},\"pattern\":{\"fillmode\":\"overlay\",\"size\":10,\"solidity\":0.2}},\"type\":\"barpolar\"}],\"carpet\":[{\"aaxis\":{\"endlinecolor\":\"#2a3f5f\",\"gridcolor\":\"white\",\"linecolor\":\"white\",\"minorgridcolor\":\"white\",\"startlinecolor\":\"#2a3f5f\"},\"baxis\":{\"endlinecolor\":\"#2a3f5f\",\"gridcolor\":\"white\",\"linecolor\":\"white\",\"minorgridcolor\":\"white\",\"startlinecolor\":\"#2a3f5f\"},\"type\":\"carpet\"}],\"choropleth\":[{\"colorbar\":{\"outlinewidth\":0,\"ticks\":\"\"},\"type\":\"choropleth\"}],\"contour\":[{\"colorbar\":{\"outlinewidth\":0,\"ticks\":\"\"},\"colorscale\":[[0.0,\"#0d0887\"],[0.1111111111111111,\"#46039f\"],[0.2222222222222222,\"#7201a8\"],[0.3333333333333333,\"#9c179e\"],[0.4444444444444444,\"#bd3786\"],[0.5555555555555556,\"#d8576b\"],[0.6666666666666666,\"#ed7953\"],[0.7777777777777778,\"#fb9f3a\"],[0.8888888888888888,\"#fdca26\"],[1.0,\"#f0f921\"]],\"type\":\"contour\"}],\"contourcarpet\":[{\"colorbar\":{\"outlinewidth\":0,\"ticks\":\"\"},\"type\":\"contourcarpet\"}],\"heatmap\":[{\"colorbar\":{\"outlinewidth\":0,\"ticks\":\"\"},\"colorscale\":[[0.0,\"#0d0887\"],[0.1111111111111111,\"#46039f\"],[0.2222222222222222,\"#7201a8\"],[0.3333333333333333,\"#9c179e\"],[0.4444444444444444,\"#bd3786\"],[0.5555555555555556,\"#d8576b\"],[0.6666666666666666,\"#ed7953\"],[0.7777777777777778,\"#fb9f3a\"],[0.8888888888888888,\"#fdca26\"],[1.0,\"#f0f921\"]],\"type\":\"heatmap\"}],\"heatmapgl\":[{\"colorbar\":{\"outlinewidth\":0,\"ticks\":\"\"},\"colorscale\":[[0.0,\"#0d0887\"],[0.1111111111111111,\"#46039f\"],[0.2222222222222222,\"#7201a8\"],[0.3333333333333333,\"#9c179e\"],[0.4444444444444444,\"#bd3786\"],[0.5555555555555556,\"#d8576b\"],[0.6666666666666666,\"#ed7953\"],[0.7777777777777778,\"#fb9f3a\"],[0.8888888888888888,\"#fdca26\"],[1.0,\"#f0f921\"]],\"type\":\"heatmapgl\"}],\"histogram\":[{\"marker\":{\"pattern\":{\"fillmode\":\"overlay\",\"size\":10,\"solidity\":0.2}},\"type\":\"histogram\"}],\"histogram2d\":[{\"colorbar\":{\"outlinewidth\":0,\"ticks\":\"\"},\"colorscale\":[[0.0,\"#0d0887\"],[0.1111111111111111,\"#46039f\"],[0.2222222222222222,\"#7201a8\"],[0.3333333333333333,\"#9c179e\"],[0.4444444444444444,\"#bd3786\"],[0.5555555555555556,\"#d8576b\"],[0.6666666666666666,\"#ed7953\"],[0.7777777777777778,\"#fb9f3a\"],[0.8888888888888888,\"#fdca26\"],[1.0,\"#f0f921\"]],\"type\":\"histogram2d\"}],\"histogram2dcontour\":[{\"colorbar\":{\"outlinewidth\":0,\"ticks\":\"\"},\"colorscale\":[[0.0,\"#0d0887\"],[0.1111111111111111,\"#46039f\"],[0.2222222222222222,\"#7201a8\"],[0.3333333333333333,\"#9c179e\"],[0.4444444444444444,\"#bd3786\"],[0.5555555555555556,\"#d8576b\"],[0.6666666666666666,\"#ed7953\"],[0.7777777777777778,\"#fb9f3a\"],[0.8888888888888888,\"#fdca26\"],[1.0,\"#f0f921\"]],\"type\":\"histogram2dcontour\"}],\"mesh3d\":[{\"colorbar\":{\"outlinewidth\":0,\"ticks\":\"\"},\"type\":\"mesh3d\"}],\"parcoords\":[{\"line\":{\"colorbar\":{\"outlinewidth\":0,\"ticks\":\"\"}},\"type\":\"parcoords\"}],\"pie\":[{\"automargin\":true,\"type\":\"pie\"}],\"scatter\":[{\"marker\":{\"colorbar\":{\"outlinewidth\":0,\"ticks\":\"\"}},\"type\":\"scatter\"}],\"scatter3d\":[{\"line\":{\"colorbar\":{\"outlinewidth\":0,\"ticks\":\"\"}},\"marker\":{\"colorbar\":{\"outlinewidth\":0,\"ticks\":\"\"}},\"type\":\"scatter3d\"}],\"scattercarpet\":[{\"marker\":{\"colorbar\":{\"outlinewidth\":0,\"ticks\":\"\"}},\"type\":\"scattercarpet\"}],\"scattergeo\":[{\"marker\":{\"colorbar\":{\"outlinewidth\":0,\"ticks\":\"\"}},\"type\":\"scattergeo\"}],\"scattergl\":[{\"marker\":{\"colorbar\":{\"outlinewidth\":0,\"ticks\":\"\"}},\"type\":\"scattergl\"}],\"scattermapbox\":[{\"marker\":{\"colorbar\":{\"outlinewidth\":0,\"ticks\":\"\"}},\"type\":\"scattermapbox\"}],\"scatterpolar\":[{\"marker\":{\"colorbar\":{\"outlinewidth\":0,\"ticks\":\"\"}},\"type\":\"scatterpolar\"}],\"scatterpolargl\":[{\"marker\":{\"colorbar\":{\"outlinewidth\":0,\"ticks\":\"\"}},\"type\":\"scatterpolargl\"}],\"scatterternary\":[{\"marker\":{\"colorbar\":{\"outlinewidth\":0,\"ticks\":\"\"}},\"type\":\"scatterternary\"}],\"surface\":[{\"colorbar\":{\"outlinewidth\":0,\"ticks\":\"\"},\"colorscale\":[[0.0,\"#0d0887\"],[0.1111111111111111,\"#46039f\"],[0.2222222222222222,\"#7201a8\"],[0.3333333333333333,\"#9c179e\"],[0.4444444444444444,\"#bd3786\"],[0.5555555555555556,\"#d8576b\"],[0.6666666666666666,\"#ed7953\"],[0.7777777777777778,\"#fb9f3a\"],[0.8888888888888888,\"#fdca26\"],[1.0,\"#f0f921\"]],\"type\":\"surface\"}],\"table\":[{\"cells\":{\"fill\":{\"color\":\"#EBF0F8\"},\"line\":{\"color\":\"white\"}},\"header\":{\"fill\":{\"color\":\"#C8D4E3\"},\"line\":{\"color\":\"white\"}},\"type\":\"table\"}]},\"layout\":{\"annotationdefaults\":{\"arrowcolor\":\"#2a3f5f\",\"arrowhead\":0,\"arrowwidth\":1},\"autotypenumbers\":\"strict\",\"coloraxis\":{\"colorbar\":{\"outlinewidth\":0,\"ticks\":\"\"}},\"colorscale\":{\"diverging\":[[0,\"#8e0152\"],[0.1,\"#c51b7d\"],[0.2,\"#de77ae\"],[0.3,\"#f1b6da\"],[0.4,\"#fde0ef\"],[0.5,\"#f7f7f7\"],[0.6,\"#e6f5d0\"],[0.7,\"#b8e186\"],[0.8,\"#7fbc41\"],[0.9,\"#4d9221\"],[1,\"#276419\"]],\"sequential\":[[0.0,\"#0d0887\"],[0.1111111111111111,\"#46039f\"],[0.2222222222222222,\"#7201a8\"],[0.3333333333333333,\"#9c179e\"],[0.4444444444444444,\"#bd3786\"],[0.5555555555555556,\"#d8576b\"],[0.6666666666666666,\"#ed7953\"],[0.7777777777777778,\"#fb9f3a\"],[0.8888888888888888,\"#fdca26\"],[1.0,\"#f0f921\"]],\"sequentialminus\":[[0.0,\"#0d0887\"],[0.1111111111111111,\"#46039f\"],[0.2222222222222222,\"#7201a8\"],[0.3333333333333333,\"#9c179e\"],[0.4444444444444444,\"#bd3786\"],[0.5555555555555556,\"#d8576b\"],[0.6666666666666666,\"#ed7953\"],[0.7777777777777778,\"#fb9f3a\"],[0.8888888888888888,\"#fdca26\"],[1.0,\"#f0f921\"]]},\"colorway\":[\"#636efa\",\"#EF553B\",\"#00cc96\",\"#ab63fa\",\"#FFA15A\",\"#19d3f3\",\"#FF6692\",\"#B6E880\",\"#FF97FF\",\"#FECB52\"],\"font\":{\"color\":\"#2a3f5f\"},\"geo\":{\"bgcolor\":\"white\",\"lakecolor\":\"white\",\"landcolor\":\"#E5ECF6\",\"showlakes\":true,\"showland\":true,\"subunitcolor\":\"white\"},\"hoverlabel\":{\"align\":\"left\"},\"hovermode\":\"closest\",\"mapbox\":{\"style\":\"light\"},\"paper_bgcolor\":\"white\",\"plot_bgcolor\":\"#E5ECF6\",\"polar\":{\"angularaxis\":{\"gridcolor\":\"white\",\"linecolor\":\"white\",\"ticks\":\"\"},\"bgcolor\":\"#E5ECF6\",\"radialaxis\":{\"gridcolor\":\"white\",\"linecolor\":\"white\",\"ticks\":\"\"}},\"scene\":{\"xaxis\":{\"backgroundcolor\":\"#E5ECF6\",\"gridcolor\":\"white\",\"gridwidth\":2,\"linecolor\":\"white\",\"showbackground\":true,\"ticks\":\"\",\"zerolinecolor\":\"white\"},\"yaxis\":{\"backgroundcolor\":\"#E5ECF6\",\"gridcolor\":\"white\",\"gridwidth\":2,\"linecolor\":\"white\",\"showbackground\":true,\"ticks\":\"\",\"zerolinecolor\":\"white\"},\"zaxis\":{\"backgroundcolor\":\"#E5ECF6\",\"gridcolor\":\"white\",\"gridwidth\":2,\"linecolor\":\"white\",\"showbackground\":true,\"ticks\":\"\",\"zerolinecolor\":\"white\"}},\"shapedefaults\":{\"line\":{\"color\":\"#2a3f5f\"}},\"ternary\":{\"aaxis\":{\"gridcolor\":\"white\",\"linecolor\":\"white\",\"ticks\":\"\"},\"baxis\":{\"gridcolor\":\"white\",\"linecolor\":\"white\",\"ticks\":\"\"},\"bgcolor\":\"#E5ECF6\",\"caxis\":{\"gridcolor\":\"white\",\"linecolor\":\"white\",\"ticks\":\"\"}},\"title\":{\"x\":0.05},\"xaxis\":{\"automargin\":true,\"gridcolor\":\"white\",\"linecolor\":\"white\",\"ticks\":\"\",\"title\":{\"standoff\":15},\"zerolinecolor\":\"white\",\"zerolinewidth\":2},\"yaxis\":{\"automargin\":true,\"gridcolor\":\"white\",\"linecolor\":\"white\",\"ticks\":\"\",\"title\":{\"standoff\":15},\"zerolinecolor\":\"white\",\"zerolinewidth\":2}}},\"xaxis\":{\"anchor\":\"y\",\"domain\":[0.0,1.0],\"scaleanchor\":\"y\",\"constrain\":\"domain\",\"title\":{\"text\":\"Gauss algorithm matrix evolution\"},\"side\":\"top\"},\"yaxis\":{\"anchor\":\"x\",\"domain\":[0.0,1.0],\"autorange\":\"reversed\",\"constrain\":\"domain\"},\"coloraxis\":{\"colorbar\":{\"title\":{\"text\":\"value\"}},\"colorscale\":[[0.0,\"#0d0887\"],[0.1111111111111111,\"#46039f\"],[0.2222222222222222,\"#7201a8\"],[0.3333333333333333,\"#9c179e\"],[0.4444444444444444,\"#bd3786\"],[0.5555555555555556,\"#d8576b\"],[0.6666666666666666,\"#ed7953\"],[0.7777777777777778,\"#fb9f3a\"],[0.8888888888888888,\"#fdca26\"],[1.0,\"#f0f921\"]]},\"margin\":{\"t\":60}},                        {\"responsive\": true}                    ).then(function(){\n",
              "                            \n",
              "var gd = document.getElementById('a32b69f2-cedb-4e08-9510-e7292ea4c254');\n",
              "var x = new MutationObserver(function (mutations, observer) {{\n",
              "        var display = window.getComputedStyle(gd).display;\n",
              "        if (!display || display === 'none') {{\n",
              "            console.log([gd, 'removed!']);\n",
              "            Plotly.purge(gd);\n",
              "            observer.disconnect();\n",
              "        }}\n",
              "}});\n",
              "\n",
              "// Listen for the removal of the full notebook cells\n",
              "var notebookContainer = gd.closest('#notebook-container');\n",
              "if (notebookContainer) {{\n",
              "    x.observe(notebookContainer, {childList: true});\n",
              "}}\n",
              "\n",
              "// Listen for the clearing of the current output cell\n",
              "var outputEl = gd.closest('.output');\n",
              "if (outputEl) {{\n",
              "    x.observe(outputEl, {childList: true});\n",
              "}}\n",
              "\n",
              "                        })                };                            </script>        </div>\n",
              "</body>\n",
              "</html>"
            ]
          },
          "metadata": {}
        },
        {
          "output_type": "display_data",
          "data": {
            "text/html": [
              "<html>\n",
              "<head><meta charset=\"utf-8\" /></head>\n",
              "<body>\n",
              "    <div>            <script src=\"https://cdnjs.cloudflare.com/ajax/libs/mathjax/2.7.5/MathJax.js?config=TeX-AMS-MML_SVG\"></script><script type=\"text/javascript\">if (window.MathJax) {MathJax.Hub.Config({SVG: {font: \"STIX-Web\"}});}</script>                <script type=\"text/javascript\">window.PlotlyConfig = {MathJaxConfig: 'local'};</script>\n",
              "        <script src=\"https://cdn.plot.ly/plotly-2.9.0.min.js\"></script>                <div id=\"1334bfca-42df-482b-aca3-3c65260bfe42\" class=\"plotly-graph-div\" style=\"height:525px; width:100%;\"></div>            <script type=\"text/javascript\">                                    window.PLOTLYENV=window.PLOTLYENV || {};                                    if (document.getElementById(\"1334bfca-42df-482b-aca3-3c65260bfe42\")) {                    Plotly.newPlot(                        \"1334bfca-42df-482b-aca3-3c65260bfe42\",                        [{\"coloraxis\":\"coloraxis\",\"name\":\"0\",\"z\":[[0,0,0,0,0],[0,0,0,0,0],[0,0,0,0,0],[0,0,0,0,0],[0,0,0,441,576]],\"type\":\"heatmap\",\"xaxis\":\"x\",\"yaxis\":\"y\",\"hovertemplate\":\"Gauss algorithm matrix evolution: %{x}<br>y: %{y}<br>value: %{z}<extra></extra>\"}],                        {\"template\":{\"data\":{\"bar\":[{\"error_x\":{\"color\":\"#2a3f5f\"},\"error_y\":{\"color\":\"#2a3f5f\"},\"marker\":{\"line\":{\"color\":\"#E5ECF6\",\"width\":0.5},\"pattern\":{\"fillmode\":\"overlay\",\"size\":10,\"solidity\":0.2}},\"type\":\"bar\"}],\"barpolar\":[{\"marker\":{\"line\":{\"color\":\"#E5ECF6\",\"width\":0.5},\"pattern\":{\"fillmode\":\"overlay\",\"size\":10,\"solidity\":0.2}},\"type\":\"barpolar\"}],\"carpet\":[{\"aaxis\":{\"endlinecolor\":\"#2a3f5f\",\"gridcolor\":\"white\",\"linecolor\":\"white\",\"minorgridcolor\":\"white\",\"startlinecolor\":\"#2a3f5f\"},\"baxis\":{\"endlinecolor\":\"#2a3f5f\",\"gridcolor\":\"white\",\"linecolor\":\"white\",\"minorgridcolor\":\"white\",\"startlinecolor\":\"#2a3f5f\"},\"type\":\"carpet\"}],\"choropleth\":[{\"colorbar\":{\"outlinewidth\":0,\"ticks\":\"\"},\"type\":\"choropleth\"}],\"contour\":[{\"colorbar\":{\"outlinewidth\":0,\"ticks\":\"\"},\"colorscale\":[[0.0,\"#0d0887\"],[0.1111111111111111,\"#46039f\"],[0.2222222222222222,\"#7201a8\"],[0.3333333333333333,\"#9c179e\"],[0.4444444444444444,\"#bd3786\"],[0.5555555555555556,\"#d8576b\"],[0.6666666666666666,\"#ed7953\"],[0.7777777777777778,\"#fb9f3a\"],[0.8888888888888888,\"#fdca26\"],[1.0,\"#f0f921\"]],\"type\":\"contour\"}],\"contourcarpet\":[{\"colorbar\":{\"outlinewidth\":0,\"ticks\":\"\"},\"type\":\"contourcarpet\"}],\"heatmap\":[{\"colorbar\":{\"outlinewidth\":0,\"ticks\":\"\"},\"colorscale\":[[0.0,\"#0d0887\"],[0.1111111111111111,\"#46039f\"],[0.2222222222222222,\"#7201a8\"],[0.3333333333333333,\"#9c179e\"],[0.4444444444444444,\"#bd3786\"],[0.5555555555555556,\"#d8576b\"],[0.6666666666666666,\"#ed7953\"],[0.7777777777777778,\"#fb9f3a\"],[0.8888888888888888,\"#fdca26\"],[1.0,\"#f0f921\"]],\"type\":\"heatmap\"}],\"heatmapgl\":[{\"colorbar\":{\"outlinewidth\":0,\"ticks\":\"\"},\"colorscale\":[[0.0,\"#0d0887\"],[0.1111111111111111,\"#46039f\"],[0.2222222222222222,\"#7201a8\"],[0.3333333333333333,\"#9c179e\"],[0.4444444444444444,\"#bd3786\"],[0.5555555555555556,\"#d8576b\"],[0.6666666666666666,\"#ed7953\"],[0.7777777777777778,\"#fb9f3a\"],[0.8888888888888888,\"#fdca26\"],[1.0,\"#f0f921\"]],\"type\":\"heatmapgl\"}],\"histogram\":[{\"marker\":{\"pattern\":{\"fillmode\":\"overlay\",\"size\":10,\"solidity\":0.2}},\"type\":\"histogram\"}],\"histogram2d\":[{\"colorbar\":{\"outlinewidth\":0,\"ticks\":\"\"},\"colorscale\":[[0.0,\"#0d0887\"],[0.1111111111111111,\"#46039f\"],[0.2222222222222222,\"#7201a8\"],[0.3333333333333333,\"#9c179e\"],[0.4444444444444444,\"#bd3786\"],[0.5555555555555556,\"#d8576b\"],[0.6666666666666666,\"#ed7953\"],[0.7777777777777778,\"#fb9f3a\"],[0.8888888888888888,\"#fdca26\"],[1.0,\"#f0f921\"]],\"type\":\"histogram2d\"}],\"histogram2dcontour\":[{\"colorbar\":{\"outlinewidth\":0,\"ticks\":\"\"},\"colorscale\":[[0.0,\"#0d0887\"],[0.1111111111111111,\"#46039f\"],[0.2222222222222222,\"#7201a8\"],[0.3333333333333333,\"#9c179e\"],[0.4444444444444444,\"#bd3786\"],[0.5555555555555556,\"#d8576b\"],[0.6666666666666666,\"#ed7953\"],[0.7777777777777778,\"#fb9f3a\"],[0.8888888888888888,\"#fdca26\"],[1.0,\"#f0f921\"]],\"type\":\"histogram2dcontour\"}],\"mesh3d\":[{\"colorbar\":{\"outlinewidth\":0,\"ticks\":\"\"},\"type\":\"mesh3d\"}],\"parcoords\":[{\"line\":{\"colorbar\":{\"outlinewidth\":0,\"ticks\":\"\"}},\"type\":\"parcoords\"}],\"pie\":[{\"automargin\":true,\"type\":\"pie\"}],\"scatter\":[{\"marker\":{\"colorbar\":{\"outlinewidth\":0,\"ticks\":\"\"}},\"type\":\"scatter\"}],\"scatter3d\":[{\"line\":{\"colorbar\":{\"outlinewidth\":0,\"ticks\":\"\"}},\"marker\":{\"colorbar\":{\"outlinewidth\":0,\"ticks\":\"\"}},\"type\":\"scatter3d\"}],\"scattercarpet\":[{\"marker\":{\"colorbar\":{\"outlinewidth\":0,\"ticks\":\"\"}},\"type\":\"scattercarpet\"}],\"scattergeo\":[{\"marker\":{\"colorbar\":{\"outlinewidth\":0,\"ticks\":\"\"}},\"type\":\"scattergeo\"}],\"scattergl\":[{\"marker\":{\"colorbar\":{\"outlinewidth\":0,\"ticks\":\"\"}},\"type\":\"scattergl\"}],\"scattermapbox\":[{\"marker\":{\"colorbar\":{\"outlinewidth\":0,\"ticks\":\"\"}},\"type\":\"scattermapbox\"}],\"scatterpolar\":[{\"marker\":{\"colorbar\":{\"outlinewidth\":0,\"ticks\":\"\"}},\"type\":\"scatterpolar\"}],\"scatterpolargl\":[{\"marker\":{\"colorbar\":{\"outlinewidth\":0,\"ticks\":\"\"}},\"type\":\"scatterpolargl\"}],\"scatterternary\":[{\"marker\":{\"colorbar\":{\"outlinewidth\":0,\"ticks\":\"\"}},\"type\":\"scatterternary\"}],\"surface\":[{\"colorbar\":{\"outlinewidth\":0,\"ticks\":\"\"},\"colorscale\":[[0.0,\"#0d0887\"],[0.1111111111111111,\"#46039f\"],[0.2222222222222222,\"#7201a8\"],[0.3333333333333333,\"#9c179e\"],[0.4444444444444444,\"#bd3786\"],[0.5555555555555556,\"#d8576b\"],[0.6666666666666666,\"#ed7953\"],[0.7777777777777778,\"#fb9f3a\"],[0.8888888888888888,\"#fdca26\"],[1.0,\"#f0f921\"]],\"type\":\"surface\"}],\"table\":[{\"cells\":{\"fill\":{\"color\":\"#EBF0F8\"},\"line\":{\"color\":\"white\"}},\"header\":{\"fill\":{\"color\":\"#C8D4E3\"},\"line\":{\"color\":\"white\"}},\"type\":\"table\"}]},\"layout\":{\"annotationdefaults\":{\"arrowcolor\":\"#2a3f5f\",\"arrowhead\":0,\"arrowwidth\":1},\"autotypenumbers\":\"strict\",\"coloraxis\":{\"colorbar\":{\"outlinewidth\":0,\"ticks\":\"\"}},\"colorscale\":{\"diverging\":[[0,\"#8e0152\"],[0.1,\"#c51b7d\"],[0.2,\"#de77ae\"],[0.3,\"#f1b6da\"],[0.4,\"#fde0ef\"],[0.5,\"#f7f7f7\"],[0.6,\"#e6f5d0\"],[0.7,\"#b8e186\"],[0.8,\"#7fbc41\"],[0.9,\"#4d9221\"],[1,\"#276419\"]],\"sequential\":[[0.0,\"#0d0887\"],[0.1111111111111111,\"#46039f\"],[0.2222222222222222,\"#7201a8\"],[0.3333333333333333,\"#9c179e\"],[0.4444444444444444,\"#bd3786\"],[0.5555555555555556,\"#d8576b\"],[0.6666666666666666,\"#ed7953\"],[0.7777777777777778,\"#fb9f3a\"],[0.8888888888888888,\"#fdca26\"],[1.0,\"#f0f921\"]],\"sequentialminus\":[[0.0,\"#0d0887\"],[0.1111111111111111,\"#46039f\"],[0.2222222222222222,\"#7201a8\"],[0.3333333333333333,\"#9c179e\"],[0.4444444444444444,\"#bd3786\"],[0.5555555555555556,\"#d8576b\"],[0.6666666666666666,\"#ed7953\"],[0.7777777777777778,\"#fb9f3a\"],[0.8888888888888888,\"#fdca26\"],[1.0,\"#f0f921\"]]},\"colorway\":[\"#636efa\",\"#EF553B\",\"#00cc96\",\"#ab63fa\",\"#FFA15A\",\"#19d3f3\",\"#FF6692\",\"#B6E880\",\"#FF97FF\",\"#FECB52\"],\"font\":{\"color\":\"#2a3f5f\"},\"geo\":{\"bgcolor\":\"white\",\"lakecolor\":\"white\",\"landcolor\":\"#E5ECF6\",\"showlakes\":true,\"showland\":true,\"subunitcolor\":\"white\"},\"hoverlabel\":{\"align\":\"left\"},\"hovermode\":\"closest\",\"mapbox\":{\"style\":\"light\"},\"paper_bgcolor\":\"white\",\"plot_bgcolor\":\"#E5ECF6\",\"polar\":{\"angularaxis\":{\"gridcolor\":\"white\",\"linecolor\":\"white\",\"ticks\":\"\"},\"bgcolor\":\"#E5ECF6\",\"radialaxis\":{\"gridcolor\":\"white\",\"linecolor\":\"white\",\"ticks\":\"\"}},\"scene\":{\"xaxis\":{\"backgroundcolor\":\"#E5ECF6\",\"gridcolor\":\"white\",\"gridwidth\":2,\"linecolor\":\"white\",\"showbackground\":true,\"ticks\":\"\",\"zerolinecolor\":\"white\"},\"yaxis\":{\"backgroundcolor\":\"#E5ECF6\",\"gridcolor\":\"white\",\"gridwidth\":2,\"linecolor\":\"white\",\"showbackground\":true,\"ticks\":\"\",\"zerolinecolor\":\"white\"},\"zaxis\":{\"backgroundcolor\":\"#E5ECF6\",\"gridcolor\":\"white\",\"gridwidth\":2,\"linecolor\":\"white\",\"showbackground\":true,\"ticks\":\"\",\"zerolinecolor\":\"white\"}},\"shapedefaults\":{\"line\":{\"color\":\"#2a3f5f\"}},\"ternary\":{\"aaxis\":{\"gridcolor\":\"white\",\"linecolor\":\"white\",\"ticks\":\"\"},\"baxis\":{\"gridcolor\":\"white\",\"linecolor\":\"white\",\"ticks\":\"\"},\"bgcolor\":\"#E5ECF6\",\"caxis\":{\"gridcolor\":\"white\",\"linecolor\":\"white\",\"ticks\":\"\"}},\"title\":{\"x\":0.05},\"xaxis\":{\"automargin\":true,\"gridcolor\":\"white\",\"linecolor\":\"white\",\"ticks\":\"\",\"title\":{\"standoff\":15},\"zerolinecolor\":\"white\",\"zerolinewidth\":2},\"yaxis\":{\"automargin\":true,\"gridcolor\":\"white\",\"linecolor\":\"white\",\"ticks\":\"\",\"title\":{\"standoff\":15},\"zerolinecolor\":\"white\",\"zerolinewidth\":2}}},\"xaxis\":{\"anchor\":\"y\",\"domain\":[0.0,1.0],\"scaleanchor\":\"y\",\"constrain\":\"domain\",\"title\":{\"text\":\"Gauss algorithm matrix evolution\"},\"side\":\"top\"},\"yaxis\":{\"anchor\":\"x\",\"domain\":[0.0,1.0],\"autorange\":\"reversed\",\"constrain\":\"domain\"},\"coloraxis\":{\"colorbar\":{\"title\":{\"text\":\"value\"}},\"colorscale\":[[0.0,\"#0d0887\"],[0.1111111111111111,\"#46039f\"],[0.2222222222222222,\"#7201a8\"],[0.3333333333333333,\"#9c179e\"],[0.4444444444444444,\"#bd3786\"],[0.5555555555555556,\"#d8576b\"],[0.6666666666666666,\"#ed7953\"],[0.7777777777777778,\"#fb9f3a\"],[0.8888888888888888,\"#fdca26\"],[1.0,\"#f0f921\"]]},\"margin\":{\"t\":60}},                        {\"responsive\": true}                    ).then(function(){\n",
              "                            \n",
              "var gd = document.getElementById('1334bfca-42df-482b-aca3-3c65260bfe42');\n",
              "var x = new MutationObserver(function (mutations, observer) {{\n",
              "        var display = window.getComputedStyle(gd).display;\n",
              "        if (!display || display === 'none') {{\n",
              "            console.log([gd, 'removed!']);\n",
              "            Plotly.purge(gd);\n",
              "            observer.disconnect();\n",
              "        }}\n",
              "}});\n",
              "\n",
              "// Listen for the removal of the full notebook cells\n",
              "var notebookContainer = gd.closest('#notebook-container');\n",
              "if (notebookContainer) {{\n",
              "    x.observe(notebookContainer, {childList: true});\n",
              "}}\n",
              "\n",
              "// Listen for the clearing of the current output cell\n",
              "var outputEl = gd.closest('.output');\n",
              "if (outputEl) {{\n",
              "    x.observe(outputEl, {childList: true});\n",
              "}}\n",
              "\n",
              "                        })                };                            </script>        </div>\n",
              "</body>\n",
              "</html>"
            ]
          },
          "metadata": {}
        },
        {
          "output_type": "display_data",
          "data": {
            "text/html": [
              "<html>\n",
              "<head><meta charset=\"utf-8\" /></head>\n",
              "<body>\n",
              "    <div>            <script src=\"https://cdnjs.cloudflare.com/ajax/libs/mathjax/2.7.5/MathJax.js?config=TeX-AMS-MML_SVG\"></script><script type=\"text/javascript\">if (window.MathJax) {MathJax.Hub.Config({SVG: {font: \"STIX-Web\"}});}</script>                <script type=\"text/javascript\">window.PlotlyConfig = {MathJaxConfig: 'local'};</script>\n",
              "        <script src=\"https://cdn.plot.ly/plotly-2.9.0.min.js\"></script>                <div id=\"8484e126-74b3-4304-82de-7328e21f9975\" class=\"plotly-graph-div\" style=\"height:525px; width:100%;\"></div>            <script type=\"text/javascript\">                                    window.PLOTLYENV=window.PLOTLYENV || {};                                    if (document.getElementById(\"8484e126-74b3-4304-82de-7328e21f9975\")) {                    Plotly.newPlot(                        \"8484e126-74b3-4304-82de-7328e21f9975\",                        [{\"coloraxis\":\"coloraxis\",\"name\":\"0\",\"z\":[[0,0,0,0,0],[0,0,0,0,0],[0,0,0,0,0],[0,0,0,0,0],[0,0,0,0,0]],\"type\":\"heatmap\",\"xaxis\":\"x\",\"yaxis\":\"y\",\"hovertemplate\":\"Gauss algorithm matrix evolution: %{x}<br>y: %{y}<br>value: %{z}<extra></extra>\"}],                        {\"template\":{\"data\":{\"bar\":[{\"error_x\":{\"color\":\"#2a3f5f\"},\"error_y\":{\"color\":\"#2a3f5f\"},\"marker\":{\"line\":{\"color\":\"#E5ECF6\",\"width\":0.5},\"pattern\":{\"fillmode\":\"overlay\",\"size\":10,\"solidity\":0.2}},\"type\":\"bar\"}],\"barpolar\":[{\"marker\":{\"line\":{\"color\":\"#E5ECF6\",\"width\":0.5},\"pattern\":{\"fillmode\":\"overlay\",\"size\":10,\"solidity\":0.2}},\"type\":\"barpolar\"}],\"carpet\":[{\"aaxis\":{\"endlinecolor\":\"#2a3f5f\",\"gridcolor\":\"white\",\"linecolor\":\"white\",\"minorgridcolor\":\"white\",\"startlinecolor\":\"#2a3f5f\"},\"baxis\":{\"endlinecolor\":\"#2a3f5f\",\"gridcolor\":\"white\",\"linecolor\":\"white\",\"minorgridcolor\":\"white\",\"startlinecolor\":\"#2a3f5f\"},\"type\":\"carpet\"}],\"choropleth\":[{\"colorbar\":{\"outlinewidth\":0,\"ticks\":\"\"},\"type\":\"choropleth\"}],\"contour\":[{\"colorbar\":{\"outlinewidth\":0,\"ticks\":\"\"},\"colorscale\":[[0.0,\"#0d0887\"],[0.1111111111111111,\"#46039f\"],[0.2222222222222222,\"#7201a8\"],[0.3333333333333333,\"#9c179e\"],[0.4444444444444444,\"#bd3786\"],[0.5555555555555556,\"#d8576b\"],[0.6666666666666666,\"#ed7953\"],[0.7777777777777778,\"#fb9f3a\"],[0.8888888888888888,\"#fdca26\"],[1.0,\"#f0f921\"]],\"type\":\"contour\"}],\"contourcarpet\":[{\"colorbar\":{\"outlinewidth\":0,\"ticks\":\"\"},\"type\":\"contourcarpet\"}],\"heatmap\":[{\"colorbar\":{\"outlinewidth\":0,\"ticks\":\"\"},\"colorscale\":[[0.0,\"#0d0887\"],[0.1111111111111111,\"#46039f\"],[0.2222222222222222,\"#7201a8\"],[0.3333333333333333,\"#9c179e\"],[0.4444444444444444,\"#bd3786\"],[0.5555555555555556,\"#d8576b\"],[0.6666666666666666,\"#ed7953\"],[0.7777777777777778,\"#fb9f3a\"],[0.8888888888888888,\"#fdca26\"],[1.0,\"#f0f921\"]],\"type\":\"heatmap\"}],\"heatmapgl\":[{\"colorbar\":{\"outlinewidth\":0,\"ticks\":\"\"},\"colorscale\":[[0.0,\"#0d0887\"],[0.1111111111111111,\"#46039f\"],[0.2222222222222222,\"#7201a8\"],[0.3333333333333333,\"#9c179e\"],[0.4444444444444444,\"#bd3786\"],[0.5555555555555556,\"#d8576b\"],[0.6666666666666666,\"#ed7953\"],[0.7777777777777778,\"#fb9f3a\"],[0.8888888888888888,\"#fdca26\"],[1.0,\"#f0f921\"]],\"type\":\"heatmapgl\"}],\"histogram\":[{\"marker\":{\"pattern\":{\"fillmode\":\"overlay\",\"size\":10,\"solidity\":0.2}},\"type\":\"histogram\"}],\"histogram2d\":[{\"colorbar\":{\"outlinewidth\":0,\"ticks\":\"\"},\"colorscale\":[[0.0,\"#0d0887\"],[0.1111111111111111,\"#46039f\"],[0.2222222222222222,\"#7201a8\"],[0.3333333333333333,\"#9c179e\"],[0.4444444444444444,\"#bd3786\"],[0.5555555555555556,\"#d8576b\"],[0.6666666666666666,\"#ed7953\"],[0.7777777777777778,\"#fb9f3a\"],[0.8888888888888888,\"#fdca26\"],[1.0,\"#f0f921\"]],\"type\":\"histogram2d\"}],\"histogram2dcontour\":[{\"colorbar\":{\"outlinewidth\":0,\"ticks\":\"\"},\"colorscale\":[[0.0,\"#0d0887\"],[0.1111111111111111,\"#46039f\"],[0.2222222222222222,\"#7201a8\"],[0.3333333333333333,\"#9c179e\"],[0.4444444444444444,\"#bd3786\"],[0.5555555555555556,\"#d8576b\"],[0.6666666666666666,\"#ed7953\"],[0.7777777777777778,\"#fb9f3a\"],[0.8888888888888888,\"#fdca26\"],[1.0,\"#f0f921\"]],\"type\":\"histogram2dcontour\"}],\"mesh3d\":[{\"colorbar\":{\"outlinewidth\":0,\"ticks\":\"\"},\"type\":\"mesh3d\"}],\"parcoords\":[{\"line\":{\"colorbar\":{\"outlinewidth\":0,\"ticks\":\"\"}},\"type\":\"parcoords\"}],\"pie\":[{\"automargin\":true,\"type\":\"pie\"}],\"scatter\":[{\"marker\":{\"colorbar\":{\"outlinewidth\":0,\"ticks\":\"\"}},\"type\":\"scatter\"}],\"scatter3d\":[{\"line\":{\"colorbar\":{\"outlinewidth\":0,\"ticks\":\"\"}},\"marker\":{\"colorbar\":{\"outlinewidth\":0,\"ticks\":\"\"}},\"type\":\"scatter3d\"}],\"scattercarpet\":[{\"marker\":{\"colorbar\":{\"outlinewidth\":0,\"ticks\":\"\"}},\"type\":\"scattercarpet\"}],\"scattergeo\":[{\"marker\":{\"colorbar\":{\"outlinewidth\":0,\"ticks\":\"\"}},\"type\":\"scattergeo\"}],\"scattergl\":[{\"marker\":{\"colorbar\":{\"outlinewidth\":0,\"ticks\":\"\"}},\"type\":\"scattergl\"}],\"scattermapbox\":[{\"marker\":{\"colorbar\":{\"outlinewidth\":0,\"ticks\":\"\"}},\"type\":\"scattermapbox\"}],\"scatterpolar\":[{\"marker\":{\"colorbar\":{\"outlinewidth\":0,\"ticks\":\"\"}},\"type\":\"scatterpolar\"}],\"scatterpolargl\":[{\"marker\":{\"colorbar\":{\"outlinewidth\":0,\"ticks\":\"\"}},\"type\":\"scatterpolargl\"}],\"scatterternary\":[{\"marker\":{\"colorbar\":{\"outlinewidth\":0,\"ticks\":\"\"}},\"type\":\"scatterternary\"}],\"surface\":[{\"colorbar\":{\"outlinewidth\":0,\"ticks\":\"\"},\"colorscale\":[[0.0,\"#0d0887\"],[0.1111111111111111,\"#46039f\"],[0.2222222222222222,\"#7201a8\"],[0.3333333333333333,\"#9c179e\"],[0.4444444444444444,\"#bd3786\"],[0.5555555555555556,\"#d8576b\"],[0.6666666666666666,\"#ed7953\"],[0.7777777777777778,\"#fb9f3a\"],[0.8888888888888888,\"#fdca26\"],[1.0,\"#f0f921\"]],\"type\":\"surface\"}],\"table\":[{\"cells\":{\"fill\":{\"color\":\"#EBF0F8\"},\"line\":{\"color\":\"white\"}},\"header\":{\"fill\":{\"color\":\"#C8D4E3\"},\"line\":{\"color\":\"white\"}},\"type\":\"table\"}]},\"layout\":{\"annotationdefaults\":{\"arrowcolor\":\"#2a3f5f\",\"arrowhead\":0,\"arrowwidth\":1},\"autotypenumbers\":\"strict\",\"coloraxis\":{\"colorbar\":{\"outlinewidth\":0,\"ticks\":\"\"}},\"colorscale\":{\"diverging\":[[0,\"#8e0152\"],[0.1,\"#c51b7d\"],[0.2,\"#de77ae\"],[0.3,\"#f1b6da\"],[0.4,\"#fde0ef\"],[0.5,\"#f7f7f7\"],[0.6,\"#e6f5d0\"],[0.7,\"#b8e186\"],[0.8,\"#7fbc41\"],[0.9,\"#4d9221\"],[1,\"#276419\"]],\"sequential\":[[0.0,\"#0d0887\"],[0.1111111111111111,\"#46039f\"],[0.2222222222222222,\"#7201a8\"],[0.3333333333333333,\"#9c179e\"],[0.4444444444444444,\"#bd3786\"],[0.5555555555555556,\"#d8576b\"],[0.6666666666666666,\"#ed7953\"],[0.7777777777777778,\"#fb9f3a\"],[0.8888888888888888,\"#fdca26\"],[1.0,\"#f0f921\"]],\"sequentialminus\":[[0.0,\"#0d0887\"],[0.1111111111111111,\"#46039f\"],[0.2222222222222222,\"#7201a8\"],[0.3333333333333333,\"#9c179e\"],[0.4444444444444444,\"#bd3786\"],[0.5555555555555556,\"#d8576b\"],[0.6666666666666666,\"#ed7953\"],[0.7777777777777778,\"#fb9f3a\"],[0.8888888888888888,\"#fdca26\"],[1.0,\"#f0f921\"]]},\"colorway\":[\"#636efa\",\"#EF553B\",\"#00cc96\",\"#ab63fa\",\"#FFA15A\",\"#19d3f3\",\"#FF6692\",\"#B6E880\",\"#FF97FF\",\"#FECB52\"],\"font\":{\"color\":\"#2a3f5f\"},\"geo\":{\"bgcolor\":\"white\",\"lakecolor\":\"white\",\"landcolor\":\"#E5ECF6\",\"showlakes\":true,\"showland\":true,\"subunitcolor\":\"white\"},\"hoverlabel\":{\"align\":\"left\"},\"hovermode\":\"closest\",\"mapbox\":{\"style\":\"light\"},\"paper_bgcolor\":\"white\",\"plot_bgcolor\":\"#E5ECF6\",\"polar\":{\"angularaxis\":{\"gridcolor\":\"white\",\"linecolor\":\"white\",\"ticks\":\"\"},\"bgcolor\":\"#E5ECF6\",\"radialaxis\":{\"gridcolor\":\"white\",\"linecolor\":\"white\",\"ticks\":\"\"}},\"scene\":{\"xaxis\":{\"backgroundcolor\":\"#E5ECF6\",\"gridcolor\":\"white\",\"gridwidth\":2,\"linecolor\":\"white\",\"showbackground\":true,\"ticks\":\"\",\"zerolinecolor\":\"white\"},\"yaxis\":{\"backgroundcolor\":\"#E5ECF6\",\"gridcolor\":\"white\",\"gridwidth\":2,\"linecolor\":\"white\",\"showbackground\":true,\"ticks\":\"\",\"zerolinecolor\":\"white\"},\"zaxis\":{\"backgroundcolor\":\"#E5ECF6\",\"gridcolor\":\"white\",\"gridwidth\":2,\"linecolor\":\"white\",\"showbackground\":true,\"ticks\":\"\",\"zerolinecolor\":\"white\"}},\"shapedefaults\":{\"line\":{\"color\":\"#2a3f5f\"}},\"ternary\":{\"aaxis\":{\"gridcolor\":\"white\",\"linecolor\":\"white\",\"ticks\":\"\"},\"baxis\":{\"gridcolor\":\"white\",\"linecolor\":\"white\",\"ticks\":\"\"},\"bgcolor\":\"#E5ECF6\",\"caxis\":{\"gridcolor\":\"white\",\"linecolor\":\"white\",\"ticks\":\"\"}},\"title\":{\"x\":0.05},\"xaxis\":{\"automargin\":true,\"gridcolor\":\"white\",\"linecolor\":\"white\",\"ticks\":\"\",\"title\":{\"standoff\":15},\"zerolinecolor\":\"white\",\"zerolinewidth\":2},\"yaxis\":{\"automargin\":true,\"gridcolor\":\"white\",\"linecolor\":\"white\",\"ticks\":\"\",\"title\":{\"standoff\":15},\"zerolinecolor\":\"white\",\"zerolinewidth\":2}}},\"xaxis\":{\"anchor\":\"y\",\"domain\":[0.0,1.0],\"scaleanchor\":\"y\",\"constrain\":\"domain\",\"title\":{\"text\":\"Gauss algorithm matrix evolution\"},\"side\":\"top\"},\"yaxis\":{\"anchor\":\"x\",\"domain\":[0.0,1.0],\"autorange\":\"reversed\",\"constrain\":\"domain\"},\"coloraxis\":{\"colorbar\":{\"title\":{\"text\":\"value\"}},\"colorscale\":[[0.0,\"#0d0887\"],[0.1111111111111111,\"#46039f\"],[0.2222222222222222,\"#7201a8\"],[0.3333333333333333,\"#9c179e\"],[0.4444444444444444,\"#bd3786\"],[0.5555555555555556,\"#d8576b\"],[0.6666666666666666,\"#ed7953\"],[0.7777777777777778,\"#fb9f3a\"],[0.8888888888888888,\"#fdca26\"],[1.0,\"#f0f921\"]]},\"margin\":{\"t\":60}},                        {\"responsive\": true}                    ).then(function(){\n",
              "                            \n",
              "var gd = document.getElementById('8484e126-74b3-4304-82de-7328e21f9975');\n",
              "var x = new MutationObserver(function (mutations, observer) {{\n",
              "        var display = window.getComputedStyle(gd).display;\n",
              "        if (!display || display === 'none') {{\n",
              "            console.log([gd, 'removed!']);\n",
              "            Plotly.purge(gd);\n",
              "            observer.disconnect();\n",
              "        }}\n",
              "}});\n",
              "\n",
              "// Listen for the removal of the full notebook cells\n",
              "var notebookContainer = gd.closest('#notebook-container');\n",
              "if (notebookContainer) {{\n",
              "    x.observe(notebookContainer, {childList: true});\n",
              "}}\n",
              "\n",
              "// Listen for the clearing of the current output cell\n",
              "var outputEl = gd.closest('.output');\n",
              "if (outputEl) {{\n",
              "    x.observe(outputEl, {childList: true});\n",
              "}}\n",
              "\n",
              "                        })                };                            </script>        </div>\n",
              "</body>\n",
              "</html>"
            ]
          },
          "metadata": {}
        }
      ],
      "source": [
        "plot_matrix_evolution(evo, A_gauss, \"Gauss algorithm matrix evolution\")"
      ]
    },
    {
      "cell_type": "code",
      "source": [
        "A_gauss, b_gauss"
      ],
      "metadata": {
        "colab": {
          "base_uri": "https://localhost:8080/"
        },
        "id": "x2n5DkxK1QTs",
        "outputId": "4e3a2e6d-456a-4ed9-cd79-6da2f65a26cb"
      },
      "id": "x2n5DkxK1QTs",
      "execution_count": null,
      "outputs": [
        {
          "output_type": "execute_result",
          "data": {
            "text/plain": [
              "(array([[ 97,  67,  68,  63,  96],\n",
              "        [  0,  60,  -3,  -3, -29],\n",
              "        [  0,   0,  44,  20,  16],\n",
              "        [  0,   0,   0,  43, -51],\n",
              "        [  0,   0,   0,   0, -52]]), array([49, 47, 21, 28, 16]))"
            ]
          },
          "metadata": {},
          "execution_count": 44
        }
      ]
    },
    {
      "cell_type": "code",
      "execution_count": null,
      "id": "42cb55d5",
      "metadata": {
        "id": "42cb55d5",
        "outputId": "1dfeb06e-3f80-4447-9861-57057b867e13",
        "colab": {
          "base_uri": "https://localhost:8080/"
        }
      },
      "outputs": [
        {
          "output_type": "execute_result",
          "data": {
            "text/plain": [
              "[-0.1621200035878769,\n",
              " 0.6718795739144576,\n",
              " 0.4590583834769882,\n",
              " 0.28622540250447226,\n",
              " -0.3076923076923077]"
            ]
          },
          "metadata": {},
          "execution_count": 45
        }
      ],
      "source": [
        "x_gauss = substitution_method(A_gauss, b_gauss, n=n)\n",
        "x_gauss"
      ]
    },
    {
      "cell_type": "markdown",
      "id": "8328d968",
      "metadata": {
        "id": "8328d968"
      },
      "source": [
        "Fie $x_{\\text {Gauss }}$ soluţia aproximativă calculată. Să se verifice soluţia afişând următoarea normă:\n",
        "$$\n",
        "\\left\\|A^{i n i t} x_{G a u s s}-b^{i n i t}\\right\\|_{2}\n",
        "$$\n",
        "$A^{\\text {init }}$ şi $b^{\\text {init }}$ sunt datele iniţiale, nu cele modificate pe parcursul algoritmului. Am notat cu $\\|\\cdot\\|_{2}$ norma Euclidiană. Această normă ar trebui să fie mai mică decât $10^{-6}$, dacă aţi implementat corect metoda eliminării Gauss."
      ]
    },
    {
      "cell_type": "code",
      "execution_count": null,
      "id": "6084bbab",
      "metadata": {
        "id": "6084bbab",
        "outputId": "2856be1c-5269-4a39-a0d5-d0c83b26f23c",
        "colab": {
          "base_uri": "https://localhost:8080/"
        }
      },
      "outputs": [
        {
          "output_type": "execute_result",
          "data": {
            "text/plain": [
              "7.944109290391274e-15"
            ]
          },
          "metadata": {},
          "execution_count": 46
        }
      ],
      "source": [
        "norm(A @ x_gauss - b)"
      ]
    },
    {
      "cell_type": "markdown",
      "id": "3a46f36b",
      "metadata": {
        "id": "3a46f36b"
      },
      "source": [
        "Folosindu-se una din bibliotecile menţionate în pagina laboratorului, să se calculeze şi să se afişeze soluţia sistemului $A x=b$ şi inversa matricei $A, x_{b i b l}$ şi $A_{b i b l}^{-1}$. Să se afişeze următoarele norme:\n",
        "$$\n",
        "\\begin{gathered}\n",
        "\\left\\|x_{\\text {Gauss }}-x_{\\text {bibl }}\\right\\|_{2} \\\\\n",
        "\\left\\|x_{\\text {Gauss }}-A_{\\text {bibl }}^{-1} b^{i n i t}\\right\\|_{2} .\n",
        "\\end{gathered}\n",
        "$$\n",
        "Aceste norme ar trebui să fie mai mici decât $10^{-6}$."
      ]
    },
    {
      "cell_type": "code",
      "execution_count": null,
      "id": "d5060157",
      "metadata": {
        "id": "d5060157",
        "outputId": "a4386809-5646-430c-abec-84bafb36d922",
        "colab": {
          "base_uri": "https://localhost:8080/"
        }
      },
      "outputs": [
        {
          "output_type": "execute_result",
          "data": {
            "text/plain": [
              "array([-0.16212   ,  0.67187957,  0.45905838,  0.2862254 , -0.30769231])"
            ]
          },
          "metadata": {},
          "execution_count": 47
        }
      ],
      "source": [
        "x_lib = solve(A, b)\n",
        "x_lib"
      ]
    },
    {
      "cell_type": "code",
      "execution_count": null,
      "id": "f15d4f0b",
      "metadata": {
        "id": "f15d4f0b",
        "outputId": "18101398-772e-4556-bb67-4c73c0000e72",
        "colab": {
          "base_uri": "https://localhost:8080/"
        }
      },
      "outputs": [
        {
          "output_type": "execute_result",
          "data": {
            "text/plain": [
              "1.7772239894833365e-16"
            ]
          },
          "metadata": {},
          "execution_count": 48
        }
      ],
      "source": [
        "norm(x_gauss - x_lib)"
      ]
    },
    {
      "cell_type": "code",
      "execution_count": null,
      "id": "9d0fe0f9",
      "metadata": {
        "id": "9d0fe0f9",
        "outputId": "289fc0ec-22c2-45ef-cb27-d73c6c5bf2c9",
        "colab": {
          "base_uri": "https://localhost:8080/"
        }
      },
      "outputs": [
        {
          "output_type": "execute_result",
          "data": {
            "text/plain": [
              "1.594436429147036e-16"
            ]
          },
          "metadata": {},
          "execution_count": 49
        }
      ],
      "source": [
        "norm(x_gauss - np.linalg.inv(A) @ b)"
      ]
    },
    {
      "cell_type": "markdown",
      "id": "2b36d444",
      "metadata": {
        "id": "2b36d444"
      },
      "source": [
        "### 3. Calculul inversei unei matrice folosind metoda lui Gauss\n",
        "\n",
        "Dacă se cunoaşte o metodă numerică de rezolvare a sistemelor liniare (în cazul de faţă se va folosi algoritmul de eliminare Gauss), coloanele matricei inverse se pot aproxima rezolvând $n$ sisteme liniare.\n",
        "Coloana $j$ a matricei $A^{-1}$ se aproximează rezolvând sistemul liniar:\n",
        "$$\n",
        "\\begin{aligned}\n",
        "&A x=e_{j}, j=1,2, \\ldots, n, \\\\\n",
        "&e_{j}=(0, \\ldots, 1,0 \\ldots, 0)^{T}, 1 \\text { este pe poziţia } j \\text { în vectorul } e_{j}\n",
        "\\end{aligned}\n",
        "$$\n",
        "Procedura de calcul a matricei $A_{\\text {Gauss }}^{-1}$ este următoarea:\n",
        "- Se calculează eliminarea Gauss a matricei extinse $\\left[A, I_{n}\\right] \\in \\mathbb{R}^{n \\times 2 n}\\left(I_{n}\\right.$ este matricea unitate de dimensiune $n$ ). Se adaptează varianta a 2-a a algoritmului de eliminare Gauss cu pivotare parţială, astfel încât să modifice toate coloanele matricei $I_{n}$ simultan, împreună cu transformarea matricei $A$ în formă superior triunghiulară. În varianta a 2 -a a algoritmului descrisă mai sus se face transformarea Gauss a matricei $[A, b] \\in \\mathbb{R}^{n \\times(n+1)}$.\n",
        "La final, matricea va avea următoarea formă $\\left[R, I_{\\text {transformat }}\\right]$ unde $R$ este forma superior triunghiulară a matricei $A$ iar $I_{\\text {transformat }}$ este matricea $I_{n}$ modificată conform algoritmului de eliminare Gauss.\n",
        "- for $j=1, \\ldots, n$\n",
        "  1. $b=$ coloana $j$ a matricei $I_{\\text {transformat }}$;\n",
        "  2. se rezolvă sistemul superior triunghiular $R x=b$, folosind metoda substituţiei inverse, se obţine soluţia $x^{*}\\left(x^{*}\\right.$ este soluţia sistemului liniar $A x=e_{j}$);\n",
        "  3. se memorează $x^{*}$ în coloana $j$ a matricei $A_{\\text {Gauss }}^{-1}$;\n",
        "\n",
        "Procedura de mai sus detaliază, în fapt, rezolvarea numerică a ecuaţiei matriceale:\n",
        "\n",
        "$$A X=I_{n}, X \\in \\mathbb{R}^{n \\times n}, I_{n}=\\text { matricea unitate. }$$"
      ]
    },
    {
      "cell_type": "code",
      "source": [
        "n = 5\n",
        "A = np.random.randint(low=1, high=100, size=n*n).reshape(n, n)\n",
        "A"
      ],
      "metadata": {
        "id": "1fORRBho5eRq",
        "colab": {
          "base_uri": "https://localhost:8080/"
        },
        "outputId": "5d6e7783-c6cd-4e85-8399-cb160663ca9d"
      },
      "id": "1fORRBho5eRq",
      "execution_count": null,
      "outputs": [
        {
          "output_type": "execute_result",
          "data": {
            "text/plain": [
              "array([[ 3, 66, 14, 76, 53],\n",
              "       [ 6, 94, 85, 49, 63],\n",
              "       [43, 35, 41, 47, 33],\n",
              "       [95, 87, 59, 70, 46],\n",
              "       [19, 51, 45,  2, 64]])"
            ]
          },
          "metadata": {},
          "execution_count": 56
        }
      ]
    },
    {
      "cell_type": "code",
      "source": [
        "def get_inv(a):\n",
        "  res = []\n",
        "  n = len(a)\n",
        "  In = np.identity(n)\n",
        "  R, It, _ = gauss_algorithm(a, In, n)\n",
        "  for j in range(0, n):\n",
        "    x = substitution_method(R, It[:][j], n)\n",
        "    res += x\n",
        "  inv = np.array(res, ndmin = 2).reshape(n, n).T\n",
        "  return inv"
      ],
      "metadata": {
        "id": "ppzaLKYu3ppV"
      },
      "id": "ppzaLKYu3ppV",
      "execution_count": null,
      "outputs": []
    },
    {
      "cell_type": "code",
      "execution_count": null,
      "id": "c1ef07c1",
      "metadata": {
        "id": "c1ef07c1",
        "outputId": "43ff46ed-dbbf-410f-9d04-5d18501dd018",
        "colab": {
          "base_uri": "https://localhost:8080/"
        }
      },
      "outputs": [
        {
          "output_type": "execute_result",
          "data": {
            "text/plain": [
              "array([[ 1., -0., -0.,  0.,  0.],\n",
              "       [ 0.,  1.,  0., -0., -0.],\n",
              "       [ 0.,  0.,  1.,  0., -0.],\n",
              "       [ 0.,  0.,  0.,  1.,  0.],\n",
              "       [ 0.,  0.,  0.,  0.,  1.]])"
            ]
          },
          "metadata": {},
          "execution_count": 60
        }
      ],
      "source": [
        "my_inv = get_inv(A)\n",
        "my_inv\n",
        "my_inv @ A"
      ]
    },
    {
      "cell_type": "markdown",
      "id": "404c6882",
      "metadata": {
        "id": "404c6882"
      },
      "source": [
        "Folosind algoritmul de eliminare Gauss, calculaţi o aproximare a inversei acestei matrice, $A_{\\text {Gauss }}^{-1}$. Să se afişeze:\n",
        "$$\n",
        "\\left\\|A_{\\text {Gauss }}^{-1}-A_{\\text {bibl }}^{-1}\\right\\|\n",
        "$$\n",
        "Folosiţi orice normă matriceală este implementată în bibliotecă."
      ]
    },
    {
      "cell_type": "code",
      "execution_count": null,
      "id": "980af9ef",
      "metadata": {
        "id": "980af9ef",
        "outputId": "2439c342-5e1a-4211-e940-a4d9afb339d8",
        "colab": {
          "base_uri": "https://localhost:8080/"
        }
      },
      "outputs": [
        {
          "output_type": "execute_result",
          "data": {
            "text/plain": [
              "8.673617379884035e-19"
            ]
          },
          "metadata": {},
          "execution_count": 61
        }
      ],
      "source": [
        "norm(np.linalg.inv(A) - my_inv)"
      ]
    },
    {
      "cell_type": "markdown",
      "id": "4cb4c283",
      "metadata": {
        "id": "4cb4c283"
      },
      "source": [
        "**Bonus (25pt)**: Să se adapteze algoritmul de eliminare Gauss cu pivotare parţială pentru matrice tridiagonale de forma:\n",
        "$$\n",
        "A=\\left(\\begin{array}{cccccccc}\n",
        "a_{1} & b_{1} & 0 & 0 & \\cdots & 0 & 0 & 0 \\\\\n",
        "c_{1} & a_{2} & b_{2} & 0 & \\cdots & 0 & 0 & 0 \\\\\n",
        "0 & c_{2} & a_{3} & b_{3} & \\cdots & 0 & 0 & 0 \\\\\n",
        "\\vdots & & & & & & & \\\\\n",
        "0 & 0 & 0 & 0 & \\cdots & c_{n-2} & a_{n-1} & b_{n-1} \\\\\n",
        "0 & 0 & 0 & 0 & \\cdots & 0 & c_{n-1} & a_{n}\n",
        "\\end{array}\\right)\n",
        "$$\n",
        "Să se calculeze soluţia sistemului $A x=g$. La sfârşitul rulării algoritmului de eliminare Gauss pentru matrice tridiagonală, se ajunge la o matrice de forma:\n",
        "$$\n",
        "R=\\left(\\begin{array}{cccccccc}\n",
        "d_{1} & e_{1} & f_{1} & 0 & \\cdots & 0 & 0 & 0 \\\\\n",
        "0 & d_{2} & e_{2} & f_{2} & \\cdots & 0 & 0 & 0 \\\\\n",
        "\\vdots & & & & & & & \\\\\n",
        "0 & 0 & 0 & 0 & \\cdots & d_{n-2} & e_{n-2} & f_{n-2} \\\\\n",
        "0 & 0 & 0 & 0 & \\cdots & 0 & d_{n-1} & e_{n-1} \\\\\n",
        "0 & 0 & 0 & 0 & \\cdots & 0 & 0 & d_{n}\n",
        "\\end{array}\\right)\n",
        "$$\n",
        "La aplicarea algoritmului de eliminare Gauss, să se lucreze doar cu cei 6 vectori $a, b, c, d, e, f$."
      ]
    },
    {
      "cell_type": "code",
      "execution_count": null,
      "id": "31851bf5",
      "metadata": {
        "id": "31851bf5"
      },
      "outputs": [],
      "source": [
        "# To be completed by the brave ones"
      ]
    },
    {
      "cell_type": "code",
      "source": [
        "n = 5\n",
        "A = np.zeros((n,n),dtype=int)\n",
        "f = np.random.randint(low=1, high=100, size=n-1) # under main diagonal\n",
        "b = np.random.randint(low=1, high=100, size=n) # main diagonal\n",
        "c = np.random.randint(low=1, high=100, size=n-1) # above main diagonal\n",
        "d = np.random.randint(low=1, high=100, size=n) # Ax = d\n",
        "a = np.insert(np.copy(f), 0, 0)\n",
        "for i in range(n):\n",
        "  for j in range(n):\n",
        "    if i==j:\n",
        "      A[i][j]=b[i]\n",
        "    if i==j+1:\n",
        "      A[i][j]=f[j]\n",
        "    if i==j-1:\n",
        "      A[i][j]=c[i]\n",
        "A,a,b,c,d"
      ],
      "metadata": {
        "colab": {
          "base_uri": "https://localhost:8080/"
        },
        "id": "h41xztfCDfEL",
        "outputId": "e94d763c-f6d8-4c9d-9b8c-927f1bf78915"
      },
      "id": "h41xztfCDfEL",
      "execution_count": null,
      "outputs": [
        {
          "output_type": "execute_result",
          "data": {
            "text/plain": [
              "(array([[30, 97,  0,  0,  0],\n",
              "        [71, 20, 83,  0,  0],\n",
              "        [ 0, 98, 26, 57,  0],\n",
              "        [ 0,  0,  6, 16, 42],\n",
              "        [ 0,  0,  0, 73, 55]]),\n",
              " array([ 0, 71, 98,  6, 73]),\n",
              " array([30, 20, 26, 16, 55]),\n",
              " array([97, 83, 57, 42]),\n",
              " array([91, 27, 75,  9, 93]))"
            ]
          },
          "metadata": {},
          "execution_count": 93
        }
      ]
    },
    {
      "cell_type": "code",
      "source": [
        "def thomas_algorithm(a, b, c, d, n):\n",
        "  c1 = np.zeros(n)\n",
        "  c1[0] = c[0] / b[0]\n",
        "  for i in range(1, n-1):\n",
        "    c1[i] = c[i] / (b[i] - a[i] * c1[i-1])\n",
        "  d1 = np.zeros(n)\n",
        "  d1[0] = d[0] / b[0]\n",
        "  for i in range(1, n):\n",
        "    d1[i] = (d[i] - a[i] * d1[i-1]) / (b[i] - a[i] * c1[i-1])\n",
        "  x = np.zeros(n)\n",
        "  x[n-1] = d1[n-1]\n",
        "  for i in range(n-2, -1, -1):\n",
        "    x[i] = d1[i] - c1[i] * x[i + 1]\n",
        "  return x"
      ],
      "metadata": {
        "id": "0xrSlFkC9PEf"
      },
      "id": "0xrSlFkC9PEf",
      "execution_count": null,
      "outputs": []
    },
    {
      "cell_type": "code",
      "source": [
        "x = thomas_algorithm(a,b,c,d,n)\n",
        "A @ x, d"
      ],
      "metadata": {
        "colab": {
          "base_uri": "https://localhost:8080/"
        },
        "id": "6u5WgmKg_fHC",
        "outputId": "7e29989e-8d15-433f-b24e-0879c4244de2"
      },
      "id": "6u5WgmKg_fHC",
      "execution_count": null,
      "outputs": [
        {
          "output_type": "execute_result",
          "data": {
            "text/plain": [
              "(array([91., 27., 75.,  9., 93.]), array([91, 27, 75,  9, 93]))"
            ]
          },
          "metadata": {},
          "execution_count": 95
        }
      ]
    }
  ],
  "metadata": {
    "kernelspec": {
      "display_name": "Python 3 (ipykernel)",
      "language": "python",
      "name": "python3"
    },
    "language_info": {
      "codemirror_mode": {
        "name": "ipython",
        "version": 3
      },
      "file_extension": ".py",
      "mimetype": "text/x-python",
      "name": "python",
      "nbconvert_exporter": "python",
      "pygments_lexer": "ipython3",
      "version": "3.9.5"
    },
    "colab": {
      "name": "[CN] Tema 2.ipynb",
      "provenance": [],
      "collapsed_sections": [],
      "include_colab_link": true
    }
  },
  "nbformat": 4,
  "nbformat_minor": 5
}