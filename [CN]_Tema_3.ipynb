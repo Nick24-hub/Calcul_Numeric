{
  "cells": [
    {
      "cell_type": "markdown",
      "metadata": {
        "id": "view-in-github",
        "colab_type": "text"
      },
      "source": [
        "<a href=\"https://colab.research.google.com/github/Nick24-hub/Calcul_Numeric/blob/main/%5BCN%5D_Tema_3.ipynb\" target=\"_parent\"><img src=\"https://colab.research.google.com/assets/colab-badge.svg\" alt=\"Open In Colab\"/></a>"
      ]
    },
    {
      "cell_type": "markdown",
      "id": "placed-floating",
      "metadata": {
        "id": "placed-floating"
      },
      "source": [
        "# Tema 3\n",
        "\n",
        "**Topics:**\n",
        "* stocarea matricelor *rare*\n",
        "* operatii elementare cu matrici *rare*"
      ]
    },
    {
      "cell_type": "code",
      "execution_count": null,
      "id": "00585ca7",
      "metadata": {
        "id": "00585ca7"
      },
      "outputs": [],
      "source": [
        "import numpy as np\n",
        "import random\n",
        "import urllib.request\n",
        "import re\n",
        "\n",
        "# to be implemented\n",
        "# from tema3 import RareMatrix\n",
        "\n",
        "random.seed(1)\n",
        "np.random.seed(1)"
      ]
    },
    {
      "cell_type": "code",
      "execution_count": null,
      "id": "34dc9deb",
      "metadata": {
        "id": "34dc9deb",
        "outputId": "53cd5c04-7a46-43da-df90-011c27bb72b3",
        "colab": {
          "base_uri": "https://localhost:8080/"
        }
      },
      "outputs": [
        {
          "output_type": "execute_result",
          "data": {
            "text/plain": [
              "array([[ 0.,  0., 15.,  0.,  0.],\n",
              "       [ 0.,  0.,  0.,  0., 97.],\n",
              "       [ 0.,  0.,  0.,  0.,  0.],\n",
              "       [ 0.,  0.,  0.,  0.,  0.],\n",
              "       [ 0.,  0.,  0.,  0.,  0.]])"
            ]
          },
          "metadata": {},
          "execution_count": 2
        }
      ],
      "source": [
        "# Let's generate a random rare matrix\n",
        "n = 5\n",
        "\n",
        "def generate_random_rare_matrix(n, approx_density=0.1):\n",
        "    m = np.zeros((n, n))\n",
        "    for i in range(int(n*n*approx_density)):\n",
        "        line = random.randint(0, n - 1)\n",
        "        column = random.randint(0, n - 1)\n",
        "        value = random.randint(0, 100) # let's hardcode the max value \n",
        "        \n",
        "        m[line, column] = value\n",
        "    \n",
        "    return m\n",
        "\n",
        "generate_random_rare_matrix(n, approx_density=0.1)"
      ]
    },
    {
      "cell_type": "code",
      "execution_count": null,
      "id": "17553229",
      "metadata": {
        "id": "17553229",
        "outputId": "3f7fc1b7-0ff1-4225-cfb6-7e575f9af6ff",
        "colab": {
          "base_uri": "https://localhost:8080/"
        }
      },
      "outputs": [
        {
          "output_type": "execute_result",
          "data": {
            "text/plain": [
              "array([[0.        , 0.33739616, 0.        , 0.        , 0.        ],\n",
              "       [0.        , 0.        , 0.14035078, 0.95715516, 0.        ],\n",
              "       [0.64817187, 0.        , 0.        , 0.        , 0.87008726],\n",
              "       [0.        , 0.        , 0.        , 0.        , 0.        ],\n",
              "       [0.        , 0.        , 0.        , 0.36824154, 0.        ]])"
            ]
          },
          "metadata": {},
          "execution_count": 3
        }
      ],
      "source": [
        "# Let's use a pre-defined function for the same task\n",
        "import scipy.sparse as sparse\n",
        "\n",
        "sparse.random(n, n, random_state=0, density=0.25).A"
      ]
    },
    {
      "cell_type": "code",
      "execution_count": null,
      "id": "edb2b71d",
      "metadata": {
        "id": "edb2b71d",
        "outputId": "cb3f20e6-7cb2-40ce-de94-1fbf9f67113d",
        "colab": {
          "base_uri": "https://localhost:8080/"
        }
      },
      "outputs": [
        {
          "output_type": "execute_result",
          "data": {
            "text/plain": [
              "array([[ 0.,  0.,  0.,  0.,  0.,  2.,  0., 34., 28.,  0.],\n",
              "       [ 0.,  0.,  0.,  0.,  0.,  0.,  0.,  0.,  0.,  0.],\n",
              "       [ 0.,  0.,  0.,  0.,  0.,  0.,  0.,  0.,  0.,  0.],\n",
              "       [ 0.,  0.,  0.,  0.,  0.,  0., 54.,  0.,  0., 13.],\n",
              "       [ 0.,  0.,  0.,  0.,  0.,  0.,  0.,  0.,  0.,  0.],\n",
              "       [ 2.,  0.,  0.,  0.,  0.,  0.,  0.,  0.,  0.,  0.],\n",
              "       [ 0.,  0.,  0., 54.,  0.,  0.,  0.,  0.,  0., 97.],\n",
              "       [34.,  0.,  0.,  0.,  0.,  0.,  0., 60.,  0.,  0.],\n",
              "       [28.,  0.,  0.,  0.,  0.,  0.,  0.,  0.,  0.,  0.],\n",
              "       [ 0.,  0.,  0., 13.,  0.,  0., 97.,  0.,  0.,  0.]])"
            ]
          },
          "metadata": {},
          "execution_count": 4
        }
      ],
      "source": [
        "# Let's generate a random symmetric rare matrix\n",
        "n = 10\n",
        "\n",
        "def generate_symmetric_random_rare_matrix(n, approx_density=0.1):\n",
        "    m = np.zeros((n, n))\n",
        "    for i in range(int(n*n*approx_density / 2)):\n",
        "        line = random.randint(0, n - 1)\n",
        "        column = random.randint(0, n - 1)\n",
        "        value = random.randint(0, 100) # let's hardcode the max value \n",
        "        \n",
        "        m[line, column] = value\n",
        "        m[column, line] = value \n",
        "        \n",
        "    return m\n",
        "\n",
        "generate_symmetric_random_rare_matrix(n, approx_density=0.2)"
      ]
    },
    {
      "cell_type": "markdown",
      "id": "f53e39bd",
      "metadata": {
        "id": "f53e39bd"
      },
      "source": [
        "Alte tipuri de matrice rare: https://en.wikipedia.org/wiki/Sparse_matrix"
      ]
    },
    {
      "cell_type": "markdown",
      "id": "347d3abd",
      "metadata": {
        "id": "347d3abd"
      },
      "source": [
        "### Memorarea matricelor rare şi simetrice (schema de memorare economică)\n",
        "Un vector 'rar' este un vector cu 'puține' elemente nenule. Un asemenea vector se memorează eficient într-o structură care va reține doar valorile nenule și poziția în vector a respectivei valori:\n",
        "$$\n",
        "\\left\\{(v a l \\neq 0, i) ; x_{i}=v a l\\right\\} .\n",
        "$$\n",
        "$\\mathrm{O}$ matrice rară poate fi memorată economic ca un vector de vectori memorați rar - fiecare linie a matricei se memorează într-un vector rar.\n",
        "În cazul matricelor simetrice se vor memora pentru fiecare linie elementele nenule din partea inferior triunghiulară a matricei.\n",
        "Pentru linia $\\boldsymbol{i}$, se vor memora elementele nenule din partea inferior triunghiulară a matricei $\\boldsymbol{A}$ :\n",
        "$$\n",
        "\\left\\{(v a l \\neq 0, j) ; a_{i j}=v a l, j \\leq i\\right\\}\n",
        "$$"
      ]
    },
    {
      "cell_type": "markdown",
      "id": "be0412da",
      "metadata": {
        "id": "be0412da"
      },
      "source": [
        "#### Exemplu:\n",
        "\n",
        "Matricea:\n",
        "$$\n",
        "A=\\left(\\begin{array}{ccccc}\n",
        "102.5 & 0.0 & 2.5 & 0.0 & 0.73 \\\\\n",
        "0.0 & 104.88 & 1.05 & 0.0 & 0.33 \\\\\n",
        "2.5 & 1.05 & 100.0 & 0.0 & 0.0 \\\\\n",
        "0.0 & 0.0 & 0.0 & 101.3 & 1.5 \\\\\n",
        "0.73 & 0.33 & 0.0 & 1.5 & 102.23\n",
        "\\end{array}\\right)\n",
        "$$\n",
        "se poate memora economic astfel:\n",
        "$$\n",
        "\\begin{aligned}\n",
        "&\\{\\{(102.5,0)\\}, / / \\text { linia } 0 \\\\\n",
        "&\\{(104.88,1)\\}, / / \\text { linia } 1 \\\\\n",
        "&\\{(2.5,0),(1.05,1),(100.0,2)\\}, / / \\text { linia } 2 \\\\\n",
        "&\\{(101.3,3)\\}, / / \\text { linia } 3 \\\\\n",
        "&\\{(1.5,3),(0.73,0),(102.23,4),(0.33,1)\\}\\} . / / \\text { linia } 4\n",
        "\\end{aligned}\n",
        "$$"
      ]
    },
    {
      "cell_type": "markdown",
      "id": "202171fd",
      "metadata": {
        "id": "202171fd"
      },
      "source": [
        "### Ok, acum enuntul temei\n",
        "În fișierele **a.txt**, **b.txt**, **a plus b.txt**, **a ori_a.txt** postate pe pagina laboratorului, sunt memorate, pentru 4 matrice rare (cu 'putine' elemente $a_{i j}$ $\\neq 0)$ şi simetrice, următoarele elemente:\n",
        "- $\\boldsymbol{n}$ dimensiunea datelor,\n",
        "- $a_{i j} \\neq 0, i, j$ cu $j \\leq i$ - elementele nenule din partea inferior triunghiulară a matricei rare şi simetrice $A \\in \\mathbb{R}^{n \\times n}$, indicii de linie și indicii de coloană ai respectivelor elemente.\n",
        "\n",
        "Folosind fișierele atașate, să se citească dimensiunea matricelor și să se genereze structurile de date necesare pentru memorarea economică a matricei rare și simetrice(schema economică de memorare este descrisă mai jos). Se presupune că elementele nenule ale matricei sunt plasate aleator în fișier (nu sunt ordonate după indicii de linie sau de coloană, sau altfel). Verificați că elementele din fișierele postate respectă regula $\\boldsymbol{j} \\leq \\boldsymbol{i}$.\n",
        "\n",
        "Fie $\\boldsymbol{A}, \\boldsymbol{B} \\in \\mathbb{R}^{n \\times n}$ două matrice rare şi simetrice cu elemente reale. Folosind schema de memorare rară prezentată mai jos, să se calculeze:\n",
        "- $\\boldsymbol{A}+\\boldsymbol{B}$ suma matricelor,\n",
        "- $A^{2}=A^{*} A$ produsul matricei $A$ cu ea însăși.\n",
        "Să se verifice că suma/produsul matricelor din fișierele a.txt și b.txt este matricea din fișierul a plus_b.txt/a_ori_a.txt. Două elemente care au aceiași indici de linie și coloană $(\\boldsymbol{i}, \\boldsymbol{j})$ sunt considerate egale dacă $\\left|\\boldsymbol{c}_{i j}-\\boldsymbol{d}_{i j}\\right|<\\varepsilon$. Considerați $\\varepsilon$ dată de intrare în program (de exemplu, $\\varepsilon=10^{-6}$ )."
      ]
    },
    {
      "cell_type": "markdown",
      "id": "74ffad97",
      "metadata": {
        "id": "74ffad97"
      },
      "source": [
        "#### Observatii\n",
        "\n",
        "1. La rezolvarea problemelor de mai sus să nu se recurgă la alocarea de matrice clasice și nici să nu se folosească o funcție val(i,j) care returnează pentru orice $(\\boldsymbol{i}, \\boldsymbol{j})$ valoarea elementului corespunzător din matrice. \n",
        "\n",
        "2. În cazul înmulțirii matricelor, gradul de umplere al matricei (numărul de elemente nenule din matrice) nu poate fi precizat dinainte. Este posibil ca matricea rezultat să fie ,plină”. Chiar dacă matricea este ,plină”, folosiţi schema de memorare rară pentru memorarea matricei produs.\n",
        "\n",
        "3. Implementarea schemei de memorare rară descrisă în acest fișier este obligatorie (neimplementarea ei se penalizează). Cei care aleg o altă schemă de memorare a matricelor rare trebuie să prezinte suplimentar un fișier documentație care să explice schema folosită și să prezinte un exemplu (cel mult $5 \\times 5$, se poate folosi exemplul din temă) care să precizeze conținutul structurilor de date utilizate pentru memorarea matricei rare.\n",
        "\n",
        "4. Dacă în fișierele atașate apar mai multe valori cu aceiași indici de linie și coloană:\n",
        "$$\n",
        "\\begin{aligned}\n",
        "&v a l_{1}, i, j \\\\\n",
        "&\\ldots \\\\\n",
        "&v a l_{2}, i, j \\\\\n",
        "&\\ldots \\\\\n",
        "&v a l_{k}, i, j\n",
        "\\end{aligned}\n",
        "$$\n",
        "o astfel de situație are următoarea semnificație:\n",
        "$$\n",
        "a_{i j}=v a l_{1}+v a l_{2}+\\cdots+v a l_{k} .\n",
        "$$"
      ]
    },
    {
      "cell_type": "code",
      "source": [
        "def rare_matrix_from_url(url: str):\n",
        "  file = urllib.request.urlopen(url)\n",
        "  idx = 0\n",
        "  n = 0\n",
        "  matrix = []\n",
        "  for line in file:\n",
        "    decoded_line = line.decode(\"utf-8\")\n",
        "    if idx == 0:\n",
        "      n = int(decoded_line)\n",
        "      for i in range(n):\n",
        "        matrix.append([])\n",
        "    elif len(decoded_line) > 3:\n",
        "      value, i, j = map(float, re.findall(r'\\d+(?:\\.\\d+)?', decoded_line))\n",
        "      i, j = int(i), int(j)\n",
        "      if j > i:\n",
        "        print(\"Invalid data\")\n",
        "      found = False\n",
        "      poz = 0\n",
        "      for k in range(len(matrix[i])):\n",
        "        val, col = matrix[i][k]\n",
        "        if col == j:\n",
        "          matrix[i][k] = (val + value, col)\n",
        "          found = True\n",
        "          break\n",
        "        elif j > col:\n",
        "          poz = k + 1\n",
        "      if found == False:\n",
        "        matrix[i].insert(poz, (value, j))\n",
        "    idx += 1\n",
        "  return matrix"
      ],
      "metadata": {
        "id": "u5sCTgPvfZBq"
      },
      "id": "u5sCTgPvfZBq",
      "execution_count": null,
      "outputs": []
    },
    {
      "cell_type": "code",
      "source": [
        "def matrix_from_url(url: str):\n",
        "  file = urllib.request.urlopen(url)\n",
        "  n = 0\n",
        "  matrix = []\n",
        "  for line in file:\n",
        "    decoded_line = line.decode(\"utf-8\")\n",
        "    if n == 0:\n",
        "      n = int(decoded_line)\n",
        "      matrix = np.zeros((n, n))\n",
        "    elif len(decoded_line) > 3:\n",
        "      value, i, j = map(float, re.findall(r'\\d+(?:\\.\\d+)?', decoded_line))\n",
        "      i, j = int(i), int(j)\n",
        "      matrix[i][j] += value\n",
        "  return matrix"
      ],
      "metadata": {
        "id": "dTmzetRy1FNy"
      },
      "id": "dTmzetRy1FNy",
      "execution_count": null,
      "outputs": []
    },
    {
      "cell_type": "code",
      "execution_count": null,
      "id": "a38fd5e0",
      "metadata": {
        "id": "a38fd5e0"
      },
      "outputs": [],
      "source": [
        "# Let's read the files\n",
        "\n",
        "urls = {\n",
        "    \"a\": \"https://profs.info.uaic.ro/~ancai/CN/lab/3/a.txt\",\n",
        "    \"b\": \"https://profs.info.uaic.ro/~ancai/CN/lab/3/b.txt\",\n",
        "    \"a_plus_b\": \"https://profs.info.uaic.ro/~ancai/CN/lab/3/a_plus_b.txt\",\n",
        "    \"a_ori_a\": \"https://profs.info.uaic.ro/~ancai/CN/lab/3/a_ori_a.txt\"\n",
        "}\n",
        "\n",
        "a = rare_matrix_from_url(urls[\"a\"])\n",
        "b = rare_matrix_from_url(urls[\"b\"])\n",
        "a_plus_b = rare_matrix_from_url(urls[\"a_plus_b\"])\n",
        "a_ori_a = rare_matrix_from_url(urls[\"a_ori_a\"])"
      ]
    },
    {
      "cell_type": "code",
      "source": [
        "a[0], a[100], a[1000]"
      ],
      "metadata": {
        "colab": {
          "base_uri": "https://localhost:8080/"
        },
        "id": "29SPF8B_pgBS",
        "outputId": "3b4c9d45-11fb-4e8e-8e00-7745a175267b"
      },
      "id": "29SPF8B_pgBS",
      "execution_count": null,
      "outputs": [
        {
          "output_type": "execute_result",
          "data": {
            "text/plain": [
              "([(506.5, 0)],\n",
              " [(5.0, 17),\n",
              "  (8.0, 18),\n",
              "  (19.0, 28),\n",
              "  (13.5, 36),\n",
              "  (19.0, 41),\n",
              "  (15.0, 57),\n",
              "  (21.0, 71),\n",
              "  (21.5, 77),\n",
              "  (20.0, 79),\n",
              "  (14.5, 89),\n",
              "  (481.5, 100)],\n",
              " [(2.0, 155), (21.5, 365), (18.5, 684), (16.5, 873), (213.5, 1000)])"
            ]
          },
          "metadata": {},
          "execution_count": 7
        }
      ]
    },
    {
      "cell_type": "markdown",
      "id": "0567c993",
      "metadata": {
        "id": "0567c993"
      },
      "source": [
        "Exemplu de stocare a valorilor rare."
      ]
    },
    {
      "cell_type": "code",
      "execution_count": null,
      "id": "165466bc",
      "metadata": {
        "id": "165466bc"
      },
      "outputs": [],
      "source": [
        "# print sparse representation of lines 0, 100, 1000\n",
        "# a.rare_values[0], a.rare_values[100], a.rare_values[1000]"
      ]
    },
    {
      "cell_type": "code",
      "source": [
        "b[0], b[100], b[1000]"
      ],
      "metadata": {
        "colab": {
          "base_uri": "https://localhost:8080/"
        },
        "id": "CoKivUCLp9oz",
        "outputId": "bc9755e1-6d20-4f65-e1ab-2ac334d5701f"
      },
      "id": "CoKivUCLp9oz",
      "execution_count": null,
      "outputs": [
        {
          "output_type": "execute_result",
          "data": {
            "text/plain": [
              "([(524.0, 0)],\n",
              " [(15.5, 9),\n",
              "  (30.0, 10),\n",
              "  (4.0, 14),\n",
              "  (10.0, 22),\n",
              "  (24.5, 40),\n",
              "  (15.0, 77),\n",
              "  (25.5, 79),\n",
              "  (430.5, 100)],\n",
              " [(4.0, 378), (17.5, 388), (185.5, 1000)])"
            ]
          },
          "metadata": {},
          "execution_count": 9
        }
      ]
    },
    {
      "cell_type": "code",
      "execution_count": null,
      "id": "aa9b1505",
      "metadata": {
        "id": "aa9b1505"
      },
      "outputs": [],
      "source": [
        "# print sparse representation of lines 0, 100, 1000\n",
        "# b.rare_values[0], b.rare_values[100], b.rare_values[1000]"
      ]
    },
    {
      "cell_type": "markdown",
      "id": "91bcba41",
      "metadata": {
        "id": "91bcba41"
      },
      "source": [
        "#### Adunarea matricelor rare"
      ]
    },
    {
      "cell_type": "code",
      "source": [
        "def sparse_matrix_sum(a, b):\n",
        "  result = []\n",
        "  for i in range(len(a)):\n",
        "    line = []\n",
        "    j = k = 0\n",
        "    while j < len(a[i]) and k < len(b[i]):\n",
        "      va, ca = a[i][j]\n",
        "      vb, cb = b[i][k]\n",
        "      if ca == cb:\n",
        "        line.append((va + vb, ca))\n",
        "        j += 1\n",
        "        k += 1\n",
        "      elif ca < cb:\n",
        "        line.append((va, ca))\n",
        "        j += 1\n",
        "      else:\n",
        "        line.append((vb, cb))\n",
        "        k += 1\n",
        "    while j < len(a[i]):\n",
        "      line.append(a[i][j])\n",
        "      j += 1\n",
        "    while k < len(b[i]):\n",
        "      line.append(b[i][k])\n",
        "      k += 1\n",
        "    result.append(line.copy())\n",
        "    line.clear()\n",
        "  return result"
      ],
      "metadata": {
        "id": "tYzbMaNgqmp2"
      },
      "id": "tYzbMaNgqmp2",
      "execution_count": null,
      "outputs": []
    },
    {
      "cell_type": "code",
      "execution_count": null,
      "id": "77009a16",
      "metadata": {
        "id": "77009a16"
      },
      "outputs": [],
      "source": [
        "my_a_plus_b = sparse_matrix_sum(a, b)"
      ]
    },
    {
      "cell_type": "code",
      "source": [
        "my_a_plus_b[100], a_plus_b[100]"
      ],
      "metadata": {
        "colab": {
          "base_uri": "https://localhost:8080/"
        },
        "id": "BO9b0EHwtnYn",
        "outputId": "021bc237-735f-4885-b68c-1b939bba3a85"
      },
      "id": "BO9b0EHwtnYn",
      "execution_count": null,
      "outputs": [
        {
          "output_type": "execute_result",
          "data": {
            "text/plain": [
              "([(15.5, 9),\n",
              "  (30.0, 10),\n",
              "  (4.0, 14),\n",
              "  (5.0, 17),\n",
              "  (8.0, 18),\n",
              "  (10.0, 22),\n",
              "  (19.0, 28),\n",
              "  (13.5, 36),\n",
              "  (24.5, 40),\n",
              "  (19.0, 41),\n",
              "  (15.0, 57),\n",
              "  (21.0, 71),\n",
              "  (36.5, 77),\n",
              "  (45.5, 79),\n",
              "  (14.5, 89),\n",
              "  (912.0, 100)],\n",
              " [(15.5, 9),\n",
              "  (30.0, 10),\n",
              "  (4.0, 14),\n",
              "  (5.0, 17),\n",
              "  (8.0, 18),\n",
              "  (10.0, 22),\n",
              "  (19.0, 28),\n",
              "  (13.5, 36),\n",
              "  (24.5, 40),\n",
              "  (19.0, 41),\n",
              "  (15.0, 57),\n",
              "  (21.0, 71),\n",
              "  (36.5, 77),\n",
              "  (45.5, 79),\n",
              "  (14.5, 89),\n",
              "  (912.0, 100)])"
            ]
          },
          "metadata": {},
          "execution_count": 13
        }
      ]
    },
    {
      "cell_type": "code",
      "source": [
        "def sparse_matrix_equal(a, b):\n",
        "  if len(a) != len(b):\n",
        "    return False\n",
        "  for i in range(len(a)):\n",
        "    if len(a[i]) != len(b[i]):\n",
        "      return False\n",
        "    for j in range(len(a[i])):\n",
        "      if abs(a[i][j][0] - b[i][j][0]) > 1e-15:\n",
        "        return False\n",
        "  return True"
      ],
      "metadata": {
        "id": "LzK5kYIsulTf"
      },
      "id": "LzK5kYIsulTf",
      "execution_count": null,
      "outputs": []
    },
    {
      "cell_type": "code",
      "execution_count": null,
      "id": "0688b342",
      "metadata": {
        "id": "0688b342",
        "outputId": "e6c2ac91-2193-4a34-cf2c-2c6403afba87",
        "colab": {
          "base_uri": "https://localhost:8080/"
        }
      },
      "outputs": [
        {
          "output_type": "execute_result",
          "data": {
            "text/plain": [
              "True"
            ]
          },
          "metadata": {},
          "execution_count": 15
        }
      ],
      "source": [
        "sparse_matrix_equal(my_a_plus_b, a_plus_b)"
      ]
    },
    {
      "cell_type": "markdown",
      "id": "c4eb6a21",
      "metadata": {
        "id": "c4eb6a21"
      },
      "source": [
        "#### Ridicarea la putere a matricelor (sau inmultirea matricelor)"
      ]
    },
    {
      "cell_type": "code",
      "source": [
        "def rare_transpose_matrix(matrix):\n",
        "    n = len(matrix)\n",
        "    transpose_matrix = []\n",
        "    for i in range(n):\n",
        "        transpose_matrix.append([])\n",
        "        for j in range(n):\n",
        "            for k in range(len(matrix[j])):\n",
        "                value, poz = matrix[j][k]\n",
        "                if poz == i:\n",
        "                    transpose_matrix[i].append((value, j))\n",
        "    return transpose_matrix"
      ],
      "metadata": {
        "id": "w9aLI42Kqzt9"
      },
      "id": "w9aLI42Kqzt9",
      "execution_count": null,
      "outputs": []
    },
    {
      "cell_type": "code",
      "source": [
        "a_transpose = rare_transpose_matrix(a)\n",
        "a_transpose[0], a_transpose[100], a_transpose[1000]"
      ],
      "metadata": {
        "colab": {
          "base_uri": "https://localhost:8080/"
        },
        "id": "LA-gUbRwgMqm",
        "outputId": "05aa6ebe-7aaa-4dfa-89b0-670f58acd6c3"
      },
      "id": "LA-gUbRwgMqm",
      "execution_count": null,
      "outputs": [
        {
          "output_type": "execute_result",
          "data": {
            "text/plain": [
              "([(506.5, 0),\n",
              "  (13.5, 3),\n",
              "  (6.5, 4),\n",
              "  (14.5, 9),\n",
              "  (12.0, 15),\n",
              "  (10.5, 18),\n",
              "  (7.0, 24),\n",
              "  (20.5, 26),\n",
              "  (7.5, 30),\n",
              "  (4.0, 61),\n",
              "  (20.5, 63),\n",
              "  (2.5, 65),\n",
              "  (20.5, 67),\n",
              "  (18.0, 71),\n",
              "  (24.0, 106),\n",
              "  (24.5, 136),\n",
              "  (2.0, 163),\n",
              "  (19.0, 212),\n",
              "  (9.5, 227),\n",
              "  (22.0, 268),\n",
              "  (4.0, 292),\n",
              "  (25.0, 568),\n",
              "  (10.0, 629),\n",
              "  (17.5, 667),\n",
              "  (8.5, 894),\n",
              "  (16.0, 1311),\n",
              "  (19.5, 1556),\n",
              "  (20.5, 1649),\n",
              "  (17.5, 1668),\n",
              "  (4.0, 1830),\n",
              "  (5.0, 1842)],\n",
              " [(481.5, 100),\n",
              "  (25.0, 111),\n",
              "  (20.5, 138),\n",
              "  (13.0, 179),\n",
              "  (7.0, 238),\n",
              "  (22.5, 254),\n",
              "  (15.0, 304),\n",
              "  (4.0, 343),\n",
              "  (9.5, 351),\n",
              "  (7.0, 386),\n",
              "  (27.5, 415),\n",
              "  (7.0, 622),\n",
              "  (16.0, 629),\n",
              "  (9.0, 695),\n",
              "  (5.5, 718),\n",
              "  (3.5, 897),\n",
              "  (1.0, 1394),\n",
              "  (17.5, 1416),\n",
              "  (14.0, 1732)],\n",
              " [(213.5, 1000),\n",
              "  (1.5, 1010),\n",
              "  (4.0, 1308),\n",
              "  (7.0, 1507),\n",
              "  (21.0, 1648),\n",
              "  (21.0, 1703)])"
            ]
          },
          "metadata": {},
          "execution_count": 17
        }
      ]
    },
    {
      "cell_type": "code",
      "source": [
        "# def find_line_val(column, line):\n",
        "#   l = 0\n",
        "#   r = len(column) - 1\n",
        "#   while l <= r:\n",
        "#       middle = l + (r - l) // 2\n",
        "#       vl, cl = column[middle]\n",
        "#       if cl == line:\n",
        "#         return vl\n",
        "#       elif cl > line:\n",
        "#         r = middle - 1\n",
        "#       else:\n",
        "#         l = middle + 1\n",
        "#   return 0"
      ],
      "metadata": {
        "id": "_d_AXTLeK5P1"
      },
      "id": "_d_AXTLeK5P1",
      "execution_count": null,
      "outputs": []
    },
    {
      "cell_type": "code",
      "source": [
        "# def sparse_matrix_mul(a):\n",
        "#     result = []\n",
        "#     n = len(a)\n",
        "#     for p in range(n):\n",
        "#         line = []\n",
        "#         for q in range(p + 1):\n",
        "#             sum = 0\n",
        "#             for x in a[p]: # first and second sum\n",
        "#               val, col = x[0], x[1]\n",
        "#               if col <= q:\n",
        "#                 sum += val * find_column_val(a[q], col)\n",
        "#               elif col >= q + 1 and col <= p:\n",
        "#                 sum += val * find_column_val(a[col], q)\n",
        "#               elif col > p:\n",
        "#                 break\n",
        "#             for k in range(p + 1, n):  # third sum\n",
        "#               val = find_column_val(a[k], p)\n",
        "#               if val == 0:\n",
        "#                 continue\n",
        "#               if q == p:\n",
        "#                 sum += val * val\n",
        "#               else:\n",
        "#                 sum += val * find_column_val(a[k], q)\n",
        "#             if sum > 0:\n",
        "#                 line.append((sum, q))\n",
        "#         result.append(line.copy())\n",
        "#         line.clear()\n",
        "#     return result"
      ],
      "metadata": {
        "id": "whdhPqpNxgos"
      },
      "id": "whdhPqpNxgos",
      "execution_count": null,
      "outputs": []
    },
    {
      "cell_type": "code",
      "source": [
        "def find_column_val(line, column):\n",
        "  l = 0\n",
        "  r = len(line) - 1\n",
        "  \n",
        "  while l <= r:\n",
        "      middle = l + (r - l) // 2\n",
        "      vl, cl = line[middle]\n",
        "      if cl == column:\n",
        "        return vl\n",
        "      elif cl > column:\n",
        "        r = middle - 1\n",
        "      else:\n",
        "        l = middle + 1\n",
        "  return 0"
      ],
      "metadata": {
        "id": "ZfkEmIwTCRD-"
      },
      "id": "ZfkEmIwTCRD-",
      "execution_count": null,
      "outputs": []
    },
    {
      "cell_type": "code",
      "source": [
        "def sparse_matrix_mul(a):\n",
        "    result = []\n",
        "    n = len(a)\n",
        "    for p in range(n):\n",
        "        line = []\n",
        "        for q in range(p + 1):\n",
        "            sum = 0\n",
        "            for x in a[p]: # first and second sum\n",
        "              val, col = x[0], x[1]\n",
        "              if col <= q:\n",
        "                l = 0\n",
        "                r = len(a[q]) - 1\n",
        "                while l <= r:\n",
        "                    middle = l + (r - l) // 2\n",
        "                    vl, cl = a[q][middle]\n",
        "                    if cl == col:\n",
        "                      sum += val * vl\n",
        "                      break\n",
        "                    elif cl > col:\n",
        "                      r = middle - 1\n",
        "                    else:\n",
        "                      l = middle + 1\n",
        "                continue\n",
        "              elif col >= q + 1 and col <= p:\n",
        "                l = 0\n",
        "                r = len(a[col]) - 1\n",
        "                while l <= r:\n",
        "                    middle = l + (r - l) // 2\n",
        "                    vl, cl = a[col][middle]\n",
        "                    if cl == q:\n",
        "                      sum += val * vl\n",
        "                      break\n",
        "                    elif cl > q:\n",
        "                      r = middle - 1\n",
        "                    else:\n",
        "                      l = middle + 1\n",
        "                continue\n",
        "              elif col > p:\n",
        "                break\n",
        "            for k in range(p + 1, n):  # third sum\n",
        "              vq = 0\n",
        "              for x in a[k]:\n",
        "                val, col = x\n",
        "                if (col > q and vq == 0) or col > p:\n",
        "                  break\n",
        "                if col == q:\n",
        "                  if q == p:\n",
        "                    sum += val * val\n",
        "                    break\n",
        "                  else:\n",
        "                    vq = val\n",
        "                if col == p:\n",
        "                  if vq == 0:\n",
        "                    break\n",
        "                  else:\n",
        "                    sum += vq * val\n",
        "                    break\n",
        "            if sum > 0:\n",
        "                line.append((sum, q))\n",
        "        result.append(line.copy())\n",
        "        line.clear()\n",
        "    return result"
      ],
      "metadata": {
        "id": "IfBbdU20QkGr"
      },
      "id": "IfBbdU20QkGr",
      "execution_count": null,
      "outputs": []
    },
    {
      "cell_type": "code",
      "source": [
        "# def sparse_matrix_mul(a):\n",
        "#     a_transpose = rare_transpose_matrix(a)\n",
        "#     result = []\n",
        "#     n = len(a)\n",
        "#     for p in range(n):\n",
        "#         line = []\n",
        "#         for q in range(p + 1):\n",
        "#             sum = 0\n",
        "#             for x in a[p]: # first and second sum\n",
        "#               val, col = x[0], x[1]\n",
        "#               if col <= q:\n",
        "#                 sum += val * find_line_val(a_transpose[col], q)\n",
        "#               elif col >= q + 1 and col <= p:\n",
        "#                 sum += val * find_line_val(a_transpose[q], col)\n",
        "#               elif col > p:\n",
        "#                 break\n",
        "#             for k in range(p + 1, n):  # third sum\n",
        "#               val = find_column_val(a[k], p)\n",
        "#               if val == 0:\n",
        "#                 continue\n",
        "#               if q == p:\n",
        "#                 sum += val * val\n",
        "#               else:\n",
        "#                 sum += val * find_column_val(a[k], q)\n",
        "#             if sum > 0:\n",
        "#                 line.append((sum, q))\n",
        "#         result.append(line.copy())\n",
        "#         line.clear()\n",
        "#     return result"
      ],
      "metadata": {
        "id": "I7rzCL6Rr5AQ"
      },
      "id": "I7rzCL6Rr5AQ",
      "execution_count": null,
      "outputs": []
    },
    {
      "cell_type": "code",
      "execution_count": null,
      "id": "822be85c",
      "metadata": {
        "id": "822be85c",
        "colab": {
          "base_uri": "https://localhost:8080/"
        },
        "outputId": "fe478ae4-c886-4985-ecc6-7d7ba0925640"
      },
      "outputs": [
        {
          "output_type": "stream",
          "name": "stdout",
          "text": [
            "CPU times: user 14min 1s, sys: 1.76 s, total: 14min 3s\n",
            "Wall time: 14min 5s\n"
          ]
        }
      ],
      "source": [
        "%%time\n",
        "my_a_ori_a = sparse_matrix_mul(a)"
      ]
    },
    {
      "cell_type": "code",
      "execution_count": null,
      "id": "885f75a6",
      "metadata": {
        "id": "885f75a6",
        "outputId": "c1400a5d-5de9-4d6d-b041-4433d7b9df55",
        "colab": {
          "base_uri": "https://localhost:8080/"
        }
      },
      "outputs": [
        {
          "output_type": "execute_result",
          "data": {
            "text/plain": [
              "([(399.75, 0),\n",
              "  (1484.5, 1),\n",
              "  (20184.5, 2),\n",
              "  (1704.75, 3),\n",
              "  (182.0, 4),\n",
              "  (472852.75, 5)],\n",
              " [(399.75, 0),\n",
              "  (1484.5, 1),\n",
              "  (20184.5, 2),\n",
              "  (1704.75, 3),\n",
              "  (182.0, 4),\n",
              "  (472852.75, 5)])"
            ]
          },
          "metadata": {},
          "execution_count": 47
        }
      ],
      "source": [
        "my_a_ori_a[5], a_ori_a[5]"
      ]
    },
    {
      "cell_type": "code",
      "execution_count": null,
      "id": "10cc086d",
      "metadata": {
        "id": "10cc086d",
        "outputId": "38d2fd1d-2f75-42bc-c0b3-5ff6b827a047",
        "colab": {
          "base_uri": "https://localhost:8080/"
        }
      },
      "outputs": [
        {
          "output_type": "execute_result",
          "data": {
            "text/plain": [
              "True"
            ]
          },
          "metadata": {},
          "execution_count": 48
        }
      ],
      "source": [
        "sparse_matrix_equal(my_a_ori_a, a_ori_a)"
      ]
    },
    {
      "cell_type": "code",
      "source": [
        "a = matrix_from_url(\"https://profs.info.uaic.ro/~ancai/CN/lab/3/a.txt\")"
      ],
      "metadata": {
        "id": "RVxk9ShY1rnC"
      },
      "id": "RVxk9ShY1rnC",
      "execution_count": null,
      "outputs": []
    },
    {
      "cell_type": "code",
      "source": [
        "def matrix_mul(X, Y):\n",
        "  result = np.zeros((len(X), (len(Y[0]))))\n",
        "  for i in range(len(X)):\n",
        "   # iterate through columns of Y\n",
        "   for j in range(len(Y[0])):\n",
        "       # iterate through rows of Y\n",
        "       for k in range(len(Y)):\n",
        "           result[i][j] += X[i][k] * Y[k][j]\n",
        "  return result"
      ],
      "metadata": {
        "id": "HvjoFgkv1yVm"
      },
      "id": "HvjoFgkv1yVm",
      "execution_count": null,
      "outputs": []
    },
    {
      "cell_type": "code",
      "source": [
        "%%time\n",
        "aa = matrix_mul(a, a)"
      ],
      "metadata": {
        "colab": {
          "base_uri": "https://localhost:8080/"
        },
        "id": "KDfk6buB1-3A",
        "outputId": "5ebc7869-1909-44f8-fa3f-6003030b54e0"
      },
      "id": "KDfk6buB1-3A",
      "execution_count": null,
      "outputs": [
        {
          "output_type": "stream",
          "name": "stdout",
          "text": [
            "CPU times: user 2h 4min 44s, sys: 12 s, total: 2h 4min 56s\n",
            "Wall time: 2h 5min 2s\n"
          ]
        }
      ]
    }
  ],
  "metadata": {
    "kernelspec": {
      "display_name": "Python 3 (ipykernel)",
      "language": "python",
      "name": "python3"
    },
    "language_info": {
      "codemirror_mode": {
        "name": "ipython",
        "version": 3
      },
      "file_extension": ".py",
      "mimetype": "text/x-python",
      "name": "python",
      "nbconvert_exporter": "python",
      "pygments_lexer": "ipython3",
      "version": "3.9.5"
    },
    "colab": {
      "name": "[CN] Tema 3.ipynb",
      "provenance": [],
      "collapsed_sections": [],
      "include_colab_link": true
    }
  },
  "nbformat": 4,
  "nbformat_minor": 5
}